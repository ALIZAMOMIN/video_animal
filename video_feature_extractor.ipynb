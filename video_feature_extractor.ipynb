{
 "cells": [
  {
   "cell_type": "code",
   "execution_count": 5,
   "id": "8c9f92f3",
   "metadata": {},
   "outputs": [],
   "source": [
    "import numpy as np\n",
    "import pandas as pd\n",
    "#import matplotlib.pyplot as plt\n",
    "import os\n",
    "import torch.nn as nn\n",
    "import torchvision.models as models"
   ]
  },
  {
   "cell_type": "code",
   "execution_count": 6,
   "id": "6ca2b3a2",
   "metadata": {},
   "outputs": [],
   "source": [
    "import cv2\n",
    "import frame_constructor as fc"
   ]
  },
  {
   "cell_type": "code",
   "execution_count": 7,
   "id": "9b8dafd7",
   "metadata": {},
   "outputs": [],
   "source": [
    "#from google.colab import drive\n",
    "#drive.mount('/content/drive')\n"
   ]
  },
  {
   "cell_type": "code",
   "execution_count": 8,
   "id": "94402f9e",
   "metadata": {},
   "outputs": [],
   "source": [
    "import torch.nn as nn\n",
    "import torchvision.models as models\n",
    "\n",
    "def build_feature_extractor():\n",
    "    mobilenet = models.mobilenet_v2(weights=\"IMAGENET1K_V1\")\n",
    "    mobilenet.eval()\n",
    "    # Remove classifier head, add adaptive pool and flatten\n",
    "    feature_extractor = nn.Sequential(\n",
    "        *list(mobilenet.children())[:-1],      \n",
    "        nn.AdaptiveAvgPool2d((1, 1)),         \n",
    "        nn.Flatten()\n",
    "    )\n",
    "    return feature_extractor\n",
    "\n",
    "# Usage:\n",
    "feature_extractor = build_feature_extractor()"
   ]
  },
  {
   "cell_type": "code",
   "execution_count": 9,
   "id": "d5e95d00",
   "metadata": {},
   "outputs": [
    {
     "data": {
      "text/plain": [
       "'\\nimport os\\n\\n# correct path\\ndataset_path = \"/content/drive/MyDrive/dog_dataset_split/train\"\\n\\n# list label types (aggressive / notaggressive)\\nlabel_types = os.listdir(dataset_path)\\nprint(label_types)\\n'"
      ]
     },
     "execution_count": 9,
     "metadata": {},
     "output_type": "execute_result"
    }
   ],
   "source": [
    "'''\n",
    "import os\n",
    "\n",
    "# correct path\n",
    "dataset_path = \"/content/drive/MyDrive/dog_dataset_split/train\"\n",
    "\n",
    "# list label types (aggressive / notaggressive)\n",
    "label_types = os.listdir(dataset_path)\n",
    "print(label_types)\n",
    "'''"
   ]
  },
  {
   "cell_type": "code",
   "execution_count": 10,
   "id": "1237b959",
   "metadata": {},
   "outputs": [
    {
     "data": {
      "text/plain": [
       "\"import os\\n\\ntrain_dir = '/content/drive/MyDrive/dog_dataset_split/train'\\nclass_folders = os.listdir(train_dir)\\nprint(class_folders)\\n\""
      ]
     },
     "execution_count": 10,
     "metadata": {},
     "output_type": "execute_result"
    }
   ],
   "source": [
    "\n",
    "'''import os\n",
    "\n",
    "train_dir = '/content/drive/MyDrive/dog_dataset_split/train'\n",
    "class_folders = os.listdir(train_dir)\n",
    "print(class_folders)\n",
    "'''"
   ]
  },
  {
   "cell_type": "code",
   "execution_count": 11,
   "id": "e4f5ac81",
   "metadata": {},
   "outputs": [
    {
     "data": {
      "text/plain": [
       "\"rooms = []\\nfor item in class_folders:\\n    class_folder = os.path.join(train_dir, item)\\n    if os.path.isdir(class_folder):  # Only proceed if it's a folder\\n        all_files = os.listdir(class_folder)\\n        for fname in all_files:\\n            file_path = os.path.join(class_folder, fname)\\n            rooms.append((item, file_path))\\n\\n# Build a dataframe\\nimport pandas as pd\\ntrain_df = pd.DataFrame(rooms, columns=['tag', 'video_path'])\\nprint(train_df.head())\\nprint(train_df.tail())\\n\\ndf = train_df.loc[:,['video_path','tag']]\\ndf\\ndf.to_csv('train.csv')\""
      ]
     },
     "execution_count": 11,
     "metadata": {},
     "output_type": "execute_result"
    }
   ],
   "source": [
    "'''rooms = []\n",
    "for item in class_folders:\n",
    "    class_folder = os.path.join(train_dir, item)\n",
    "    if os.path.isdir(class_folder):  # Only proceed if it's a folder\n",
    "        all_files = os.listdir(class_folder)\n",
    "        for fname in all_files:\n",
    "            file_path = os.path.join(class_folder, fname)\n",
    "            rooms.append((item, file_path))\n",
    "\n",
    "# Build a dataframe\n",
    "import pandas as pd\n",
    "train_df = pd.DataFrame(rooms, columns=['tag', 'video_path'])\n",
    "print(train_df.head())\n",
    "print(train_df.tail())\n",
    "\n",
    "df = train_df.loc[:,['video_path','tag']]\n",
    "df\n",
    "df.to_csv('train.csv')'''"
   ]
  },
  {
   "cell_type": "code",
   "execution_count": 12,
   "id": "205b00c9",
   "metadata": {},
   "outputs": [
    {
     "data": {
      "text/plain": [
       "'import os\\nimport pandas as pd\\n\\ntest_dir = \\'/content/drive/MyDrive/dog_dataset_split/test\\'\\nactivity_types = os.listdir(test_dir)\\nprint(\"Types of activities found:\", activity_types)\\n\\nrooms = []\\n\\nfor activity in activity_types:\\n    activity_folder = os.path.join(test_dir, activity)\\n    if os.path.isdir(activity_folder):  # Only if it\\'s a folder\\n        for fname in os.listdir(activity_folder):\\n            # Absolute file path on Drive\\n            full_path = os.path.join(activity_folder, fname)\\n            # OR if you want a relative path: os.path.join(\\'dog_dataset_split/test\\', activity, fname)\\n            rooms.append((activity, full_path))\\n\\n# Build a dataframe\\ntest_df = pd.DataFrame(data=rooms, columns=[\\'tag\\', \\'video_path\\'])\\nprint(test_df.head())\\nprint(test_df.tail())\\n\\n# If you specifically need only two columns:\\ndf = test_df.loc[:, [\\'video_path\\', \\'tag\\']]\\ndf.to_csv(\\'test.csv\\', index=False)\\nprint(\"CSV saved as test.csv\")'"
      ]
     },
     "execution_count": 12,
     "metadata": {},
     "output_type": "execute_result"
    }
   ],
   "source": [
    "'''import os\n",
    "import pandas as pd\n",
    "\n",
    "test_dir = '/content/drive/MyDrive/dog_dataset_split/test'\n",
    "activity_types = os.listdir(test_dir)\n",
    "print(\"Types of activities found:\", activity_types)\n",
    "\n",
    "rooms = []\n",
    "\n",
    "for activity in activity_types:\n",
    "    activity_folder = os.path.join(test_dir, activity)\n",
    "    if os.path.isdir(activity_folder):  # Only if it's a folder\n",
    "        for fname in os.listdir(activity_folder):\n",
    "            # Absolute file path on Drive\n",
    "            full_path = os.path.join(activity_folder, fname)\n",
    "            # OR if you want a relative path: os.path.join('dog_dataset_split/test', activity, fname)\n",
    "            rooms.append((activity, full_path))\n",
    "\n",
    "# Build a dataframe\n",
    "test_df = pd.DataFrame(data=rooms, columns=['tag', 'video_path'])\n",
    "print(test_df.head())\n",
    "print(test_df.tail())\n",
    "\n",
    "# If you specifically need only two columns:\n",
    "df = test_df.loc[:, ['video_path', 'tag']]\n",
    "df.to_csv('test.csv', index=False)\n",
    "print(\"CSV saved as test.csv\")'''\n"
   ]
  },
  {
   "cell_type": "code",
   "execution_count": 13,
   "id": "c5b4c4b6",
   "metadata": {},
   "outputs": [
    {
     "name": "stdout",
     "output_type": "stream",
     "text": [
      "Total videos for training: 562\n",
      "Total videos for testing: 144\n"
     ]
    },
    {
     "data": {
      "text/html": [
       "<div>\n",
       "<style scoped>\n",
       "    .dataframe tbody tr th:only-of-type {\n",
       "        vertical-align: middle;\n",
       "    }\n",
       "\n",
       "    .dataframe tbody tr th {\n",
       "        vertical-align: top;\n",
       "    }\n",
       "\n",
       "    .dataframe thead th {\n",
       "        text-align: right;\n",
       "    }\n",
       "</style>\n",
       "<table border=\"1\" class=\"dataframe\">\n",
       "  <thead>\n",
       "    <tr style=\"text-align: right;\">\n",
       "      <th></th>\n",
       "      <th>path</th>\n",
       "      <th>label</th>\n",
       "    </tr>\n",
       "  </thead>\n",
       "  <tbody>\n",
       "    <tr>\n",
       "      <th>0</th>\n",
       "      <td>C:\\Users\\aliza\\Desktop\\og_behaviour\\dog_datase...</td>\n",
       "      <td>not_aggressive</td>\n",
       "    </tr>\n",
       "    <tr>\n",
       "      <th>1</th>\n",
       "      <td>C:\\Users\\aliza\\Desktop\\og_behaviour\\dog_datase...</td>\n",
       "      <td>not_aggressive</td>\n",
       "    </tr>\n",
       "    <tr>\n",
       "      <th>2</th>\n",
       "      <td>C:\\Users\\aliza\\Desktop\\og_behaviour\\dog_datase...</td>\n",
       "      <td>aggressive</td>\n",
       "    </tr>\n",
       "    <tr>\n",
       "      <th>3</th>\n",
       "      <td>C:\\Users\\aliza\\Desktop\\og_behaviour\\dog_datase...</td>\n",
       "      <td>not_aggressive</td>\n",
       "    </tr>\n",
       "    <tr>\n",
       "      <th>4</th>\n",
       "      <td>C:\\Users\\aliza\\Desktop\\og_behaviour\\dog_datase...</td>\n",
       "      <td>not_aggressive</td>\n",
       "    </tr>\n",
       "    <tr>\n",
       "      <th>5</th>\n",
       "      <td>C:\\Users\\aliza\\Desktop\\og_behaviour\\dog_datase...</td>\n",
       "      <td>aggressive</td>\n",
       "    </tr>\n",
       "    <tr>\n",
       "      <th>6</th>\n",
       "      <td>C:\\Users\\aliza\\Desktop\\og_behaviour\\dog_datase...</td>\n",
       "      <td>aggressive</td>\n",
       "    </tr>\n",
       "    <tr>\n",
       "      <th>7</th>\n",
       "      <td>C:\\Users\\aliza\\Desktop\\og_behaviour\\dog_datase...</td>\n",
       "      <td>aggressive</td>\n",
       "    </tr>\n",
       "    <tr>\n",
       "      <th>8</th>\n",
       "      <td>C:\\Users\\aliza\\Desktop\\og_behaviour\\dog_datase...</td>\n",
       "      <td>aggressive</td>\n",
       "    </tr>\n",
       "    <tr>\n",
       "      <th>9</th>\n",
       "      <td>C:\\Users\\aliza\\Desktop\\og_behaviour\\dog_datase...</td>\n",
       "      <td>aggressive</td>\n",
       "    </tr>\n",
       "  </tbody>\n",
       "</table>\n",
       "</div>"
      ],
      "text/plain": [
       "                                                path           label\n",
       "0  C:\\Users\\aliza\\Desktop\\og_behaviour\\dog_datase...  not_aggressive\n",
       "1  C:\\Users\\aliza\\Desktop\\og_behaviour\\dog_datase...  not_aggressive\n",
       "2  C:\\Users\\aliza\\Desktop\\og_behaviour\\dog_datase...      aggressive\n",
       "3  C:\\Users\\aliza\\Desktop\\og_behaviour\\dog_datase...  not_aggressive\n",
       "4  C:\\Users\\aliza\\Desktop\\og_behaviour\\dog_datase...  not_aggressive\n",
       "5  C:\\Users\\aliza\\Desktop\\og_behaviour\\dog_datase...      aggressive\n",
       "6  C:\\Users\\aliza\\Desktop\\og_behaviour\\dog_datase...      aggressive\n",
       "7  C:\\Users\\aliza\\Desktop\\og_behaviour\\dog_datase...      aggressive\n",
       "8  C:\\Users\\aliza\\Desktop\\og_behaviour\\dog_datase...      aggressive\n",
       "9  C:\\Users\\aliza\\Desktop\\og_behaviour\\dog_datase...      aggressive"
      ]
     },
     "execution_count": 13,
     "metadata": {},
     "output_type": "execute_result"
    }
   ],
   "source": [
    "train_df = pd.read_csv(\"train_aug.csv\")\n",
    "train_df = train_df.sample(frac= 0.6, random_state=42).reset_index(drop=True)\n",
    "\n",
    "#train_df= train_df[:300]\n",
    "test_df = pd.read_csv(\"test_aug.csv\")\n",
    "\n",
    "print(f\"Total videos for training: {len(train_df)}\")\n",
    "print(f\"Total videos for testing: {len(test_df)}\")\n",
    "\n",
    "\n",
    "train_df.head(10)"
   ]
  },
  {
   "cell_type": "code",
   "execution_count": 14,
   "id": "3e288c63",
   "metadata": {},
   "outputs": [
    {
     "name": "stdout",
     "output_type": "stream",
     "text": [
      "Missing labels: 0\n"
     ]
    }
   ],
   "source": [
    "# Count missing labels\n",
    "print(\"Missing labels:\", train_df['label'].isnull().sum())\n"
   ]
  },
  {
   "cell_type": "code",
   "execution_count": 15,
   "id": "736bb0e9",
   "metadata": {},
   "outputs": [
    {
     "data": {
      "text/plain": [
       "path     0\n",
       "label    0\n",
       "dtype: int64"
      ]
     },
     "execution_count": 15,
     "metadata": {},
     "output_type": "execute_result"
    }
   ],
   "source": [
    "train_df.isnull().sum()"
   ]
  },
  {
   "cell_type": "code",
   "execution_count": 16,
   "id": "70c8ceab",
   "metadata": {},
   "outputs": [],
   "source": [
    "#train label encoding\n",
    "import pandas as pd\n",
    "import numpy as np\n",
    "import torch\n",
    "train_df=pd.read_csv('train_aug.csv')\n",
    " #convert classlabels to label encoding\n",
    "train_df = train_df.dropna(subset=['label']).reset_index(drop=True)\n",
    "train_df['label'] = train_df['label'].map({'aggressive': 1, 'not_aggressive': 0})\n",
    "label= train_df['label'].astype(int)\n",
    "label=torch.tensor(label)\n",
    "#print(label,type(label))\n",
    "train_df.head()\n",
    "\n",
    "\n",
    "#for test\n",
    "\n",
    "\n",
    "test_df=pd.read_csv('test_aug.csv')\n",
    "#convert class labels to label encoding\n",
    "test_df = test_df.dropna(subset=['label']).reset_index(drop=True)\n",
    "test_df['label'] = test_df['label'].map({'aggressive': 1, 'not_aggressive': 0})\n",
    "label= test_df['label'].astype(int)\n",
    "label=torch.tensor(label)\n",
    "#print(label,type(label))\n",
    "test_df.head()\n",
    "\n",
    "check=train_df['path'][0]"
   ]
  },
  {
   "cell_type": "code",
   "execution_count": 17,
   "id": "52e42e3a",
   "metadata": {},
   "outputs": [
    {
     "name": "stdout",
     "output_type": "stream",
     "text": [
      "C:\\Users\\aliza\\Desktop\\og_behaviour\\dog_dataset_augmented\\train\\not_aggressive\\chewing_10_preview_4_flip.mp4 exists.\n"
     ]
    }
   ],
   "source": [
    "import os\n",
    "\n",
    "video_path = check\n",
    "if os.path.isfile(video_path):\n",
    "    print(f\"{video_path} exists.\")\n",
    "else:\n",
    "    print(f\"{video_path} does NOT exist!\")\n"
   ]
  },
  {
   "cell_type": "code",
   "execution_count": 18,
   "id": "a5f63e2e",
   "metadata": {},
   "outputs": [
    {
     "name": "stdout",
     "output_type": "stream",
     "text": [
      "C:\\Users\\aliza\\Desktop\\og_behaviour\\dog_dataset_augmented\\train\\not_aggressive\\chewing_10_preview_4_flip.mp4 is a valid video with 634 frames.\n"
     ]
    }
   ],
   "source": [
    "import cv2\n",
    "\n",
    "cap = cv2.VideoCapture(video_path)\n",
    "is_opened = cap.isOpened()\n",
    "frame_count = int(cap.get(cv2.CAP_PROP_FRAME_COUNT))\n",
    "cap.release()\n",
    "\n",
    "if is_opened and frame_count > 0:\n",
    "    print(f\"{video_path} is a valid video with {frame_count} frames.\")\n",
    "else:\n",
    "    print(f\"{video_path} is NOT a valid video or has no frames!\")\n"
   ]
  },
  {
   "cell_type": "code",
   "execution_count": 19,
   "id": "b1f02f4e",
   "metadata": {},
   "outputs": [],
   "source": [
    "IMG_SIZE = 224\n",
    "BATCH_SIZE = 16\n",
    "EPOCHS = 10\n",
    "MAX_SEQ_LENGTH = 300 # Maximum number of frames to use per video\n",
    "NUM_FEATURES = 1280 # Number of features extracted by MobileNetV2"
   ]
  },
  {
   "cell_type": "code",
   "execution_count": 20,
   "id": "76bf7b35",
   "metadata": {},
   "outputs": [],
   "source": [
    "import torch\n",
    "import torch.nn.functional as F\n",
    "import numpy as np\n",
    "\n",
    "def remove_similar_frames(frames, feature_extractor, threshold=0.95, verbose=True):\n",
    "    \"\"\"\n",
    "    Removes frames that are too similar based on cosine similarity of extracted features.\n",
    "\n",
    "    Args:\n",
    "        frames (np.ndarray): Shape (num_frames, H, W, C).\n",
    "        feature_extractor (nn.Module): Pretrained feature extractor.\n",
    "        threshold (float): Cosine similarity threshold (>= means drop).\n",
    "        verbose (bool): Print how many frames were kept.\n",
    "\n",
    "    Returns:\n",
    "        np.ndarray: Filtered frames.\n",
    "    \"\"\"\n",
    "    device = \"cuda\" if torch.cuda.is_available() else \"cpu\"\n",
    "\n",
    "    num_frames = len(frames)\n",
    "    if num_frames == 0:\n",
    "        if verbose:\n",
    "            print(\"[Frame filter] No frames to process.\")\n",
    "        return frames\n",
    "\n",
    "    kept_frames = [frames[0]]\n",
    "    prev_feat = None\n",
    "\n",
    "    for i, frame in enumerate(frames):\n",
    "        # Convert to tensor and normalize\n",
    "        frame_tensor = torch.from_numpy(frame).permute(2, 0, 1).unsqueeze(0).float().to(device) / 255.0\n",
    "        mean = torch.tensor([0.485, 0.456, 0.406], device=device).view(1, 3, 1, 1)\n",
    "        std = torch.tensor([0.229, 0.224, 0.225], device=device).view(1, 3, 1, 1)\n",
    "        frame_tensor = (frame_tensor - mean) / std\n",
    "\n",
    "        with torch.no_grad():\n",
    "            feat = feature_extractor(frame_tensor)   # (1, D)\n",
    "            feat = F.normalize(feat, dim=-1)         # cosine similarity uses normalized vectors\n",
    "\n",
    "        if prev_feat is not None:\n",
    "            sim = torch.sum(prev_feat * feat).item()\n",
    "            if sim < threshold:  # keep only if different enough\n",
    "                kept_frames.append(frame)\n",
    "                prev_feat = feat\n",
    "        else:\n",
    "            prev_feat = feat\n",
    "\n",
    "    kept_frames = np.array(kept_frames)\n",
    "\n",
    "    # Print debug info\n",
    "    if verbose:\n",
    "        print(f\"[Frame filter] Kept {len(kept_frames)} / {num_frames} frames \"\n",
    "              f\"({100 * len(kept_frames) / num_frames:.1f}%) after threshold={threshold}\")\n",
    "\n",
    "    return kept_frames\n"
   ]
  },
  {
   "cell_type": "code",
   "execution_count": 21,
   "id": "47aca2b8",
   "metadata": {},
   "outputs": [],
   "source": [
    "import frame_constructor as fc\n",
    "\n",
    "\n",
    "def prepare_all_videos(df, root_dir):\n",
    "    num_samples = len(df)\n",
    "    video_paths = df[\"path\"].values.tolist()\n",
    "    labels = torch.tensor(df[\"label\"].values, dtype=torch.long)\n",
    "\n",
    "    frame_masks = torch.zeros((num_samples, MAX_SEQ_LENGTH), dtype=torch.bool)\n",
    "    frame_features = torch.zeros((num_samples, MAX_SEQ_LENGTH, NUM_FEATURES), dtype=torch.float32)\n",
    "    \n",
    "    for idx, path in enumerate(video_paths):\n",
    "        video_path = path if os.path.isabs(path) else os.path.join(root_dir, path)\n",
    "\n",
    "        frames = fc.frame_cons(video_path)\n",
    "        frames = remove_similar_frames(frames, feature_extractor)\n",
    "\n",
    "        if frames.size == 0:\n",
    "            print(f\"Warning: No frames extracted from {video_path}\")\n",
    "            continue\n",
    "\n",
    "        video_length = frames.shape[0]\n",
    "        length = min(MAX_SEQ_LENGTH, video_length)\n",
    "\n",
    "        temp_features = torch.zeros((MAX_SEQ_LENGTH, NUM_FEATURES), dtype=torch.float32)\n",
    "        \n",
    "        for i in range(length):\n",
    "            frame = frames[i]\n",
    "            frame_tensor = torch.from_numpy(frame).permute(2, 0, 1).unsqueeze(0).float() / 255.0\n",
    "            mean = torch.tensor([0.485, 0.456, 0.406], device=frame_tensor.device).view(1, 3, 1, 1)\n",
    "            std = torch.tensor([0.229, 0.224, 0.225], device=frame_tensor.device).view(1, 3, 1, 1)\n",
    "            frame_tensor = (frame_tensor - mean) / std\n",
    "\n",
    "            with torch.no_grad():\n",
    "                feat = feature_extractor(frame_tensor)\n",
    "            temp_features[i] = feat.squeeze(0)\n",
    "\n",
    "        frame_features[idx] = temp_features\n",
    "        frame_masks[idx, :length] = True\n",
    "        print(f'done for {idx}')\n",
    "\n",
    "    return (frame_features, frame_masks), labels\n"
   ]
  },
  {
   "cell_type": "code",
   "execution_count": 22,
   "metadata": {},
   "outputs": [
    {
     "data": {
      "text/plain": [
       "'\\nimport frame_constructor as fc\\ndef prepare_all_videos(df, root_dir):\\n    num_samples = len(df)\\n    video_paths = df[\"path\"].values.tolist()\\n    labels = torch.tensor(df[\"label\"].values, dtype=torch.long)\\n\\n    # Preallocate tensors for the whole dataset\\n    frame_masks = torch.zeros((num_samples, MAX_SEQ_LENGTH), dtype=torch.bool)\\n    frame_features = torch.zeros((num_samples, MAX_SEQ_LENGTH, NUM_FEATURES), dtype=torch.float32)\\n    \\n    for idx, path in enumerate(video_paths):\\n        # Use absolute path if present, else combine with root_dir\\n        if os.path.isabs(path):\\n            video_path = path\\n        else:\\n            video_path = os.path.join(root_dir, path)\\n\\n        frames = fc.frame_cons(video_path)\\n        if frames.size == 0:\\n            print(f\"Warning: No frames extracted from {video_path}\")  # shape: (video_length, H, W, C) as numpy array\\n        video_length = frames.shape[0]\\n        length = min(MAX_SEQ_LENGTH, video_length)\\n        \\n        temp_features = torch.zeros((MAX_SEQ_LENGTH, NUM_FEATURES), dtype=torch.float32)\\n        \\n        for i in range(length):\\n            frame = frames[i]  # (H, W, C), numpy\\n            frame_tensor = torch.from_numpy(frame).permute(2, 0, 1).unsqueeze(0).float() / 255.0\\n            mean = torch.tensor([0.485, 0.456, 0.406], device=frame_tensor.device).view(1, 3, 1, 1)\\n            std = torch.tensor([0.229, 0.224, 0.225], device=frame_tensor.device).view(1, 3, 1, 1)\\n            frame_tensor = (frame_tensor - mean) / std\\n\\n            with torch.no_grad():\\n                feat = feature_extractor(frame_tensor)  # output: (1, 2048)\\n            temp_features[i] = feat.squeeze(0)\\n\\n        # Assign features and mask\\n        frame_features[idx] = temp_features\\n        frame_masks[idx, :length] = True\\n        print(f\\'done for {idx}\\')\\n\\n    return (frame_features, frame_masks), labels\\n'"
      ]
     },
     "execution_count": 22,
     "metadata": {},
     "output_type": "execute_result"
    }
   ],
   "source": [
    "'''\n",
    "import frame_constructor as fc\n",
    "def prepare_all_videos(df, root_dir):\n",
    "    num_samples = len(df)\n",
    "    video_paths = df[\"path\"].values.tolist()\n",
    "    labels = torch.tensor(df[\"label\"].values, dtype=torch.long)\n",
    "\n",
    "    # Preallocate tensors for the whole dataset\n",
    "    frame_masks = torch.zeros((num_samples, MAX_SEQ_LENGTH), dtype=torch.bool)\n",
    "    frame_features = torch.zeros((num_samples, MAX_SEQ_LENGTH, NUM_FEATURES), dtype=torch.float32)\n",
    "    \n",
    "    for idx, path in enumerate(video_paths):\n",
    "        # Use absolute path if present, else combine with root_dir\n",
    "        if os.path.isabs(path):\n",
    "            video_path = path\n",
    "        else:\n",
    "            video_path = os.path.join(root_dir, path)\n",
    "\n",
    "        frames = fc.frame_cons(video_path)\n",
    "        if frames.size == 0:\n",
    "            print(f\"Warning: No frames extracted from {video_path}\")  # shape: (video_length, H, W, C) as numpy array\n",
    "        video_length = frames.shape[0]\n",
    "        length = min(MAX_SEQ_LENGTH, video_length)\n",
    "        \n",
    "        temp_features = torch.zeros((MAX_SEQ_LENGTH, NUM_FEATURES), dtype=torch.float32)\n",
    "        \n",
    "        for i in range(length):\n",
    "            frame = frames[i]  # (H, W, C), numpy\n",
    "            frame_tensor = torch.from_numpy(frame).permute(2, 0, 1).unsqueeze(0).float() / 255.0\n",
    "            mean = torch.tensor([0.485, 0.456, 0.406], device=frame_tensor.device).view(1, 3, 1, 1)\n",
    "            std = torch.tensor([0.229, 0.224, 0.225], device=frame_tensor.device).view(1, 3, 1, 1)\n",
    "            frame_tensor = (frame_tensor - mean) / std\n",
    "\n",
    "            with torch.no_grad():\n",
    "                feat = feature_extractor(frame_tensor)  # output: (1, 2048)\n",
    "            temp_features[i] = feat.squeeze(0)\n",
    "\n",
    "        # Assign features and mask\n",
    "        frame_features[idx] = temp_features\n",
    "        frame_masks[idx, :length] = True\n",
    "        print(f'done for {idx}')\n",
    "\n",
    "    return (frame_features, frame_masks), labels\n",
    "'''\n"
   ]
  },
  {
   "cell_type": "code",
   "execution_count": 23,
   "id": "4c98fc9b",
   "metadata": {},
   "outputs": [
    {
     "name": "stdout",
     "output_type": "stream",
     "text": [
      "[Frame filter] Kept 36 / 634 frames (5.7%) after threshold=0.95\n",
      "done for 0\n",
      "[Frame filter] Kept 55 / 300 frames (18.3%) after threshold=0.95\n",
      "done for 1\n",
      "[Frame filter] Kept 29 / 332 frames (8.7%) after threshold=0.95\n",
      "done for 2\n",
      "[Frame filter] Kept 109 / 1001 frames (10.9%) after threshold=0.95\n",
      "done for 3\n",
      "[Frame filter] Kept 540 / 3450 frames (15.7%) after threshold=0.95\n",
      "done for 4\n",
      "[Frame filter] Kept 56 / 360 frames (15.6%) after threshold=0.95\n",
      "done for 5\n",
      "[Frame filter] Kept 92 / 414 frames (22.2%) after threshold=0.95\n",
      "done for 6\n",
      "[Frame filter] Kept 45 / 429 frames (10.5%) after threshold=0.95\n",
      "done for 7\n",
      "[Frame filter] Kept 1084 / 2682 frames (40.4%) after threshold=0.95\n",
      "done for 8\n",
      "[Frame filter] Kept 21 / 505 frames (4.2%) after threshold=0.95\n",
      "done for 9\n",
      "[Frame filter] Kept 1192 / 5138 frames (23.2%) after threshold=0.95\n",
      "done for 10\n",
      "[Frame filter] Kept 83 / 316 frames (26.3%) after threshold=0.95\n"
     ]
    },
    {
     "ename": "KeyboardInterrupt",
     "evalue": "",
     "output_type": "error",
     "traceback": [
      "\u001b[1;31m---------------------------------------------------------------------------\u001b[0m",
      "\u001b[1;31mKeyboardInterrupt\u001b[0m                         Traceback (most recent call last)",
      "Cell \u001b[1;32mIn[23], line 1\u001b[0m\n\u001b[1;32m----> 1\u001b[0m (train_features, train_masks), train_labels \u001b[38;5;241m=\u001b[39m \u001b[43mprepare_all_videos\u001b[49m\u001b[43m(\u001b[49m\u001b[43mtrain_df\u001b[49m\u001b[43m,\u001b[49m\u001b[43m \u001b[49m\u001b[38;5;124;43m\"\u001b[39;49m\u001b[38;5;124;43m \u001b[39;49m\u001b[38;5;124;43m\"\u001b[39;49m\u001b[43m)\u001b[49m\n\u001b[0;32m      2\u001b[0m (test_features, test_masks), test_labels \u001b[38;5;241m=\u001b[39m prepare_all_videos(test_df, \u001b[38;5;124m\"\u001b[39m\u001b[38;5;124m \u001b[39m\u001b[38;5;124m\"\u001b[39m)\n\u001b[0;32m      3\u001b[0m \u001b[38;5;66;03m#156\u001b[39;00m\n\u001b[0;32m      4\u001b[0m \u001b[38;5;66;03m#167\u001b[39;00m\n",
      "Cell \u001b[1;32mIn[21], line 35\u001b[0m, in \u001b[0;36mprepare_all_videos\u001b[1;34m(df, root_dir)\u001b[0m\n\u001b[0;32m     32\u001b[0m     frame_tensor \u001b[38;5;241m=\u001b[39m (frame_tensor \u001b[38;5;241m-\u001b[39m mean) \u001b[38;5;241m/\u001b[39m std\n\u001b[0;32m     34\u001b[0m     \u001b[38;5;28;01mwith\u001b[39;00m torch\u001b[38;5;241m.\u001b[39mno_grad():\n\u001b[1;32m---> 35\u001b[0m         feat \u001b[38;5;241m=\u001b[39m \u001b[43mfeature_extractor\u001b[49m\u001b[43m(\u001b[49m\u001b[43mframe_tensor\u001b[49m\u001b[43m)\u001b[49m\n\u001b[0;32m     36\u001b[0m     temp_features[i] \u001b[38;5;241m=\u001b[39m feat\u001b[38;5;241m.\u001b[39msqueeze(\u001b[38;5;241m0\u001b[39m)\n\u001b[0;32m     38\u001b[0m frame_features[idx] \u001b[38;5;241m=\u001b[39m temp_features\n",
      "File \u001b[1;32mc:\\Users\\aliza\\Desktop\\og_behaviour\\.venv\\lib\\site-packages\\torch\\nn\\modules\\module.py:1773\u001b[0m, in \u001b[0;36mModule._wrapped_call_impl\u001b[1;34m(self, *args, **kwargs)\u001b[0m\n\u001b[0;32m   1771\u001b[0m     \u001b[38;5;28;01mreturn\u001b[39;00m \u001b[38;5;28mself\u001b[39m\u001b[38;5;241m.\u001b[39m_compiled_call_impl(\u001b[38;5;241m*\u001b[39margs, \u001b[38;5;241m*\u001b[39m\u001b[38;5;241m*\u001b[39mkwargs)  \u001b[38;5;66;03m# type: ignore[misc]\u001b[39;00m\n\u001b[0;32m   1772\u001b[0m \u001b[38;5;28;01melse\u001b[39;00m:\n\u001b[1;32m-> 1773\u001b[0m     \u001b[38;5;28;01mreturn\u001b[39;00m \u001b[38;5;28mself\u001b[39m\u001b[38;5;241m.\u001b[39m_call_impl(\u001b[38;5;241m*\u001b[39margs, \u001b[38;5;241m*\u001b[39m\u001b[38;5;241m*\u001b[39mkwargs)\n",
      "File \u001b[1;32mc:\\Users\\aliza\\Desktop\\og_behaviour\\.venv\\lib\\site-packages\\torch\\nn\\modules\\module.py:1784\u001b[0m, in \u001b[0;36mModule._call_impl\u001b[1;34m(self, *args, **kwargs)\u001b[0m\n\u001b[0;32m   1779\u001b[0m \u001b[38;5;66;03m# If we don't have any hooks, we want to skip the rest of the logic in\u001b[39;00m\n\u001b[0;32m   1780\u001b[0m \u001b[38;5;66;03m# this function, and just call forward.\u001b[39;00m\n\u001b[0;32m   1781\u001b[0m \u001b[38;5;28;01mif\u001b[39;00m \u001b[38;5;129;01mnot\u001b[39;00m (\u001b[38;5;28mself\u001b[39m\u001b[38;5;241m.\u001b[39m_backward_hooks \u001b[38;5;129;01mor\u001b[39;00m \u001b[38;5;28mself\u001b[39m\u001b[38;5;241m.\u001b[39m_backward_pre_hooks \u001b[38;5;129;01mor\u001b[39;00m \u001b[38;5;28mself\u001b[39m\u001b[38;5;241m.\u001b[39m_forward_hooks \u001b[38;5;129;01mor\u001b[39;00m \u001b[38;5;28mself\u001b[39m\u001b[38;5;241m.\u001b[39m_forward_pre_hooks\n\u001b[0;32m   1782\u001b[0m         \u001b[38;5;129;01mor\u001b[39;00m _global_backward_pre_hooks \u001b[38;5;129;01mor\u001b[39;00m _global_backward_hooks\n\u001b[0;32m   1783\u001b[0m         \u001b[38;5;129;01mor\u001b[39;00m _global_forward_hooks \u001b[38;5;129;01mor\u001b[39;00m _global_forward_pre_hooks):\n\u001b[1;32m-> 1784\u001b[0m     \u001b[38;5;28;01mreturn\u001b[39;00m forward_call(\u001b[38;5;241m*\u001b[39margs, \u001b[38;5;241m*\u001b[39m\u001b[38;5;241m*\u001b[39mkwargs)\n\u001b[0;32m   1786\u001b[0m result \u001b[38;5;241m=\u001b[39m \u001b[38;5;28;01mNone\u001b[39;00m\n\u001b[0;32m   1787\u001b[0m called_always_called_hooks \u001b[38;5;241m=\u001b[39m \u001b[38;5;28mset\u001b[39m()\n",
      "File \u001b[1;32mc:\\Users\\aliza\\Desktop\\og_behaviour\\.venv\\lib\\site-packages\\torch\\nn\\modules\\container.py:244\u001b[0m, in \u001b[0;36mSequential.forward\u001b[1;34m(self, input)\u001b[0m\n\u001b[0;32m    242\u001b[0m \u001b[38;5;28;01mdef\u001b[39;00m\u001b[38;5;250m \u001b[39m\u001b[38;5;21mforward\u001b[39m(\u001b[38;5;28mself\u001b[39m, \u001b[38;5;28minput\u001b[39m):\n\u001b[0;32m    243\u001b[0m     \u001b[38;5;28;01mfor\u001b[39;00m module \u001b[38;5;129;01min\u001b[39;00m \u001b[38;5;28mself\u001b[39m:\n\u001b[1;32m--> 244\u001b[0m         \u001b[38;5;28minput\u001b[39m \u001b[38;5;241m=\u001b[39m \u001b[43mmodule\u001b[49m\u001b[43m(\u001b[49m\u001b[38;5;28;43minput\u001b[39;49m\u001b[43m)\u001b[49m\n\u001b[0;32m    245\u001b[0m     \u001b[38;5;28;01mreturn\u001b[39;00m \u001b[38;5;28minput\u001b[39m\n",
      "File \u001b[1;32mc:\\Users\\aliza\\Desktop\\og_behaviour\\.venv\\lib\\site-packages\\torch\\nn\\modules\\module.py:1773\u001b[0m, in \u001b[0;36mModule._wrapped_call_impl\u001b[1;34m(self, *args, **kwargs)\u001b[0m\n\u001b[0;32m   1771\u001b[0m     \u001b[38;5;28;01mreturn\u001b[39;00m \u001b[38;5;28mself\u001b[39m\u001b[38;5;241m.\u001b[39m_compiled_call_impl(\u001b[38;5;241m*\u001b[39margs, \u001b[38;5;241m*\u001b[39m\u001b[38;5;241m*\u001b[39mkwargs)  \u001b[38;5;66;03m# type: ignore[misc]\u001b[39;00m\n\u001b[0;32m   1772\u001b[0m \u001b[38;5;28;01melse\u001b[39;00m:\n\u001b[1;32m-> 1773\u001b[0m     \u001b[38;5;28;01mreturn\u001b[39;00m \u001b[38;5;28mself\u001b[39m\u001b[38;5;241m.\u001b[39m_call_impl(\u001b[38;5;241m*\u001b[39margs, \u001b[38;5;241m*\u001b[39m\u001b[38;5;241m*\u001b[39mkwargs)\n",
      "File \u001b[1;32mc:\\Users\\aliza\\Desktop\\og_behaviour\\.venv\\lib\\site-packages\\torch\\nn\\modules\\module.py:1784\u001b[0m, in \u001b[0;36mModule._call_impl\u001b[1;34m(self, *args, **kwargs)\u001b[0m\n\u001b[0;32m   1779\u001b[0m \u001b[38;5;66;03m# If we don't have any hooks, we want to skip the rest of the logic in\u001b[39;00m\n\u001b[0;32m   1780\u001b[0m \u001b[38;5;66;03m# this function, and just call forward.\u001b[39;00m\n\u001b[0;32m   1781\u001b[0m \u001b[38;5;28;01mif\u001b[39;00m \u001b[38;5;129;01mnot\u001b[39;00m (\u001b[38;5;28mself\u001b[39m\u001b[38;5;241m.\u001b[39m_backward_hooks \u001b[38;5;129;01mor\u001b[39;00m \u001b[38;5;28mself\u001b[39m\u001b[38;5;241m.\u001b[39m_backward_pre_hooks \u001b[38;5;129;01mor\u001b[39;00m \u001b[38;5;28mself\u001b[39m\u001b[38;5;241m.\u001b[39m_forward_hooks \u001b[38;5;129;01mor\u001b[39;00m \u001b[38;5;28mself\u001b[39m\u001b[38;5;241m.\u001b[39m_forward_pre_hooks\n\u001b[0;32m   1782\u001b[0m         \u001b[38;5;129;01mor\u001b[39;00m _global_backward_pre_hooks \u001b[38;5;129;01mor\u001b[39;00m _global_backward_hooks\n\u001b[0;32m   1783\u001b[0m         \u001b[38;5;129;01mor\u001b[39;00m _global_forward_hooks \u001b[38;5;129;01mor\u001b[39;00m _global_forward_pre_hooks):\n\u001b[1;32m-> 1784\u001b[0m     \u001b[38;5;28;01mreturn\u001b[39;00m forward_call(\u001b[38;5;241m*\u001b[39margs, \u001b[38;5;241m*\u001b[39m\u001b[38;5;241m*\u001b[39mkwargs)\n\u001b[0;32m   1786\u001b[0m result \u001b[38;5;241m=\u001b[39m \u001b[38;5;28;01mNone\u001b[39;00m\n\u001b[0;32m   1787\u001b[0m called_always_called_hooks \u001b[38;5;241m=\u001b[39m \u001b[38;5;28mset\u001b[39m()\n",
      "File \u001b[1;32mc:\\Users\\aliza\\Desktop\\og_behaviour\\.venv\\lib\\site-packages\\torch\\nn\\modules\\container.py:244\u001b[0m, in \u001b[0;36mSequential.forward\u001b[1;34m(self, input)\u001b[0m\n\u001b[0;32m    242\u001b[0m \u001b[38;5;28;01mdef\u001b[39;00m\u001b[38;5;250m \u001b[39m\u001b[38;5;21mforward\u001b[39m(\u001b[38;5;28mself\u001b[39m, \u001b[38;5;28minput\u001b[39m):\n\u001b[0;32m    243\u001b[0m     \u001b[38;5;28;01mfor\u001b[39;00m module \u001b[38;5;129;01min\u001b[39;00m \u001b[38;5;28mself\u001b[39m:\n\u001b[1;32m--> 244\u001b[0m         \u001b[38;5;28minput\u001b[39m \u001b[38;5;241m=\u001b[39m \u001b[43mmodule\u001b[49m\u001b[43m(\u001b[49m\u001b[38;5;28;43minput\u001b[39;49m\u001b[43m)\u001b[49m\n\u001b[0;32m    245\u001b[0m     \u001b[38;5;28;01mreturn\u001b[39;00m \u001b[38;5;28minput\u001b[39m\n",
      "File \u001b[1;32mc:\\Users\\aliza\\Desktop\\og_behaviour\\.venv\\lib\\site-packages\\torch\\nn\\modules\\module.py:1773\u001b[0m, in \u001b[0;36mModule._wrapped_call_impl\u001b[1;34m(self, *args, **kwargs)\u001b[0m\n\u001b[0;32m   1771\u001b[0m     \u001b[38;5;28;01mreturn\u001b[39;00m \u001b[38;5;28mself\u001b[39m\u001b[38;5;241m.\u001b[39m_compiled_call_impl(\u001b[38;5;241m*\u001b[39margs, \u001b[38;5;241m*\u001b[39m\u001b[38;5;241m*\u001b[39mkwargs)  \u001b[38;5;66;03m# type: ignore[misc]\u001b[39;00m\n\u001b[0;32m   1772\u001b[0m \u001b[38;5;28;01melse\u001b[39;00m:\n\u001b[1;32m-> 1773\u001b[0m     \u001b[38;5;28;01mreturn\u001b[39;00m \u001b[38;5;28mself\u001b[39m\u001b[38;5;241m.\u001b[39m_call_impl(\u001b[38;5;241m*\u001b[39margs, \u001b[38;5;241m*\u001b[39m\u001b[38;5;241m*\u001b[39mkwargs)\n",
      "File \u001b[1;32mc:\\Users\\aliza\\Desktop\\og_behaviour\\.venv\\lib\\site-packages\\torch\\nn\\modules\\module.py:1784\u001b[0m, in \u001b[0;36mModule._call_impl\u001b[1;34m(self, *args, **kwargs)\u001b[0m\n\u001b[0;32m   1779\u001b[0m \u001b[38;5;66;03m# If we don't have any hooks, we want to skip the rest of the logic in\u001b[39;00m\n\u001b[0;32m   1780\u001b[0m \u001b[38;5;66;03m# this function, and just call forward.\u001b[39;00m\n\u001b[0;32m   1781\u001b[0m \u001b[38;5;28;01mif\u001b[39;00m \u001b[38;5;129;01mnot\u001b[39;00m (\u001b[38;5;28mself\u001b[39m\u001b[38;5;241m.\u001b[39m_backward_hooks \u001b[38;5;129;01mor\u001b[39;00m \u001b[38;5;28mself\u001b[39m\u001b[38;5;241m.\u001b[39m_backward_pre_hooks \u001b[38;5;129;01mor\u001b[39;00m \u001b[38;5;28mself\u001b[39m\u001b[38;5;241m.\u001b[39m_forward_hooks \u001b[38;5;129;01mor\u001b[39;00m \u001b[38;5;28mself\u001b[39m\u001b[38;5;241m.\u001b[39m_forward_pre_hooks\n\u001b[0;32m   1782\u001b[0m         \u001b[38;5;129;01mor\u001b[39;00m _global_backward_pre_hooks \u001b[38;5;129;01mor\u001b[39;00m _global_backward_hooks\n\u001b[0;32m   1783\u001b[0m         \u001b[38;5;129;01mor\u001b[39;00m _global_forward_hooks \u001b[38;5;129;01mor\u001b[39;00m _global_forward_pre_hooks):\n\u001b[1;32m-> 1784\u001b[0m     \u001b[38;5;28;01mreturn\u001b[39;00m forward_call(\u001b[38;5;241m*\u001b[39margs, \u001b[38;5;241m*\u001b[39m\u001b[38;5;241m*\u001b[39mkwargs)\n\u001b[0;32m   1786\u001b[0m result \u001b[38;5;241m=\u001b[39m \u001b[38;5;28;01mNone\u001b[39;00m\n\u001b[0;32m   1787\u001b[0m called_always_called_hooks \u001b[38;5;241m=\u001b[39m \u001b[38;5;28mset\u001b[39m()\n",
      "File \u001b[1;32mc:\\Users\\aliza\\Desktop\\og_behaviour\\.venv\\lib\\site-packages\\torchvision\\models\\mobilenetv2.py:62\u001b[0m, in \u001b[0;36mInvertedResidual.forward\u001b[1;34m(self, x)\u001b[0m\n\u001b[0;32m     60\u001b[0m \u001b[38;5;28;01mdef\u001b[39;00m\u001b[38;5;250m \u001b[39m\u001b[38;5;21mforward\u001b[39m(\u001b[38;5;28mself\u001b[39m, x: Tensor) \u001b[38;5;241m-\u001b[39m\u001b[38;5;241m>\u001b[39m Tensor:\n\u001b[0;32m     61\u001b[0m     \u001b[38;5;28;01mif\u001b[39;00m \u001b[38;5;28mself\u001b[39m\u001b[38;5;241m.\u001b[39muse_res_connect:\n\u001b[1;32m---> 62\u001b[0m         \u001b[38;5;28;01mreturn\u001b[39;00m x \u001b[38;5;241m+\u001b[39m \u001b[38;5;28;43mself\u001b[39;49m\u001b[38;5;241;43m.\u001b[39;49m\u001b[43mconv\u001b[49m\u001b[43m(\u001b[49m\u001b[43mx\u001b[49m\u001b[43m)\u001b[49m\n\u001b[0;32m     63\u001b[0m     \u001b[38;5;28;01melse\u001b[39;00m:\n\u001b[0;32m     64\u001b[0m         \u001b[38;5;28;01mreturn\u001b[39;00m \u001b[38;5;28mself\u001b[39m\u001b[38;5;241m.\u001b[39mconv(x)\n",
      "File \u001b[1;32mc:\\Users\\aliza\\Desktop\\og_behaviour\\.venv\\lib\\site-packages\\torch\\nn\\modules\\module.py:1773\u001b[0m, in \u001b[0;36mModule._wrapped_call_impl\u001b[1;34m(self, *args, **kwargs)\u001b[0m\n\u001b[0;32m   1771\u001b[0m     \u001b[38;5;28;01mreturn\u001b[39;00m \u001b[38;5;28mself\u001b[39m\u001b[38;5;241m.\u001b[39m_compiled_call_impl(\u001b[38;5;241m*\u001b[39margs, \u001b[38;5;241m*\u001b[39m\u001b[38;5;241m*\u001b[39mkwargs)  \u001b[38;5;66;03m# type: ignore[misc]\u001b[39;00m\n\u001b[0;32m   1772\u001b[0m \u001b[38;5;28;01melse\u001b[39;00m:\n\u001b[1;32m-> 1773\u001b[0m     \u001b[38;5;28;01mreturn\u001b[39;00m \u001b[38;5;28mself\u001b[39m\u001b[38;5;241m.\u001b[39m_call_impl(\u001b[38;5;241m*\u001b[39margs, \u001b[38;5;241m*\u001b[39m\u001b[38;5;241m*\u001b[39mkwargs)\n",
      "File \u001b[1;32mc:\\Users\\aliza\\Desktop\\og_behaviour\\.venv\\lib\\site-packages\\torch\\nn\\modules\\module.py:1784\u001b[0m, in \u001b[0;36mModule._call_impl\u001b[1;34m(self, *args, **kwargs)\u001b[0m\n\u001b[0;32m   1779\u001b[0m \u001b[38;5;66;03m# If we don't have any hooks, we want to skip the rest of the logic in\u001b[39;00m\n\u001b[0;32m   1780\u001b[0m \u001b[38;5;66;03m# this function, and just call forward.\u001b[39;00m\n\u001b[0;32m   1781\u001b[0m \u001b[38;5;28;01mif\u001b[39;00m \u001b[38;5;129;01mnot\u001b[39;00m (\u001b[38;5;28mself\u001b[39m\u001b[38;5;241m.\u001b[39m_backward_hooks \u001b[38;5;129;01mor\u001b[39;00m \u001b[38;5;28mself\u001b[39m\u001b[38;5;241m.\u001b[39m_backward_pre_hooks \u001b[38;5;129;01mor\u001b[39;00m \u001b[38;5;28mself\u001b[39m\u001b[38;5;241m.\u001b[39m_forward_hooks \u001b[38;5;129;01mor\u001b[39;00m \u001b[38;5;28mself\u001b[39m\u001b[38;5;241m.\u001b[39m_forward_pre_hooks\n\u001b[0;32m   1782\u001b[0m         \u001b[38;5;129;01mor\u001b[39;00m _global_backward_pre_hooks \u001b[38;5;129;01mor\u001b[39;00m _global_backward_hooks\n\u001b[0;32m   1783\u001b[0m         \u001b[38;5;129;01mor\u001b[39;00m _global_forward_hooks \u001b[38;5;129;01mor\u001b[39;00m _global_forward_pre_hooks):\n\u001b[1;32m-> 1784\u001b[0m     \u001b[38;5;28;01mreturn\u001b[39;00m forward_call(\u001b[38;5;241m*\u001b[39margs, \u001b[38;5;241m*\u001b[39m\u001b[38;5;241m*\u001b[39mkwargs)\n\u001b[0;32m   1786\u001b[0m result \u001b[38;5;241m=\u001b[39m \u001b[38;5;28;01mNone\u001b[39;00m\n\u001b[0;32m   1787\u001b[0m called_always_called_hooks \u001b[38;5;241m=\u001b[39m \u001b[38;5;28mset\u001b[39m()\n",
      "File \u001b[1;32mc:\\Users\\aliza\\Desktop\\og_behaviour\\.venv\\lib\\site-packages\\torch\\nn\\modules\\container.py:244\u001b[0m, in \u001b[0;36mSequential.forward\u001b[1;34m(self, input)\u001b[0m\n\u001b[0;32m    242\u001b[0m \u001b[38;5;28;01mdef\u001b[39;00m\u001b[38;5;250m \u001b[39m\u001b[38;5;21mforward\u001b[39m(\u001b[38;5;28mself\u001b[39m, \u001b[38;5;28minput\u001b[39m):\n\u001b[0;32m    243\u001b[0m     \u001b[38;5;28;01mfor\u001b[39;00m module \u001b[38;5;129;01min\u001b[39;00m \u001b[38;5;28mself\u001b[39m:\n\u001b[1;32m--> 244\u001b[0m         \u001b[38;5;28minput\u001b[39m \u001b[38;5;241m=\u001b[39m \u001b[43mmodule\u001b[49m\u001b[43m(\u001b[49m\u001b[38;5;28;43minput\u001b[39;49m\u001b[43m)\u001b[49m\n\u001b[0;32m    245\u001b[0m     \u001b[38;5;28;01mreturn\u001b[39;00m \u001b[38;5;28minput\u001b[39m\n",
      "File \u001b[1;32mc:\\Users\\aliza\\Desktop\\og_behaviour\\.venv\\lib\\site-packages\\torch\\nn\\modules\\module.py:1773\u001b[0m, in \u001b[0;36mModule._wrapped_call_impl\u001b[1;34m(self, *args, **kwargs)\u001b[0m\n\u001b[0;32m   1771\u001b[0m     \u001b[38;5;28;01mreturn\u001b[39;00m \u001b[38;5;28mself\u001b[39m\u001b[38;5;241m.\u001b[39m_compiled_call_impl(\u001b[38;5;241m*\u001b[39margs, \u001b[38;5;241m*\u001b[39m\u001b[38;5;241m*\u001b[39mkwargs)  \u001b[38;5;66;03m# type: ignore[misc]\u001b[39;00m\n\u001b[0;32m   1772\u001b[0m \u001b[38;5;28;01melse\u001b[39;00m:\n\u001b[1;32m-> 1773\u001b[0m     \u001b[38;5;28;01mreturn\u001b[39;00m \u001b[38;5;28mself\u001b[39m\u001b[38;5;241m.\u001b[39m_call_impl(\u001b[38;5;241m*\u001b[39margs, \u001b[38;5;241m*\u001b[39m\u001b[38;5;241m*\u001b[39mkwargs)\n",
      "File \u001b[1;32mc:\\Users\\aliza\\Desktop\\og_behaviour\\.venv\\lib\\site-packages\\torch\\nn\\modules\\module.py:1784\u001b[0m, in \u001b[0;36mModule._call_impl\u001b[1;34m(self, *args, **kwargs)\u001b[0m\n\u001b[0;32m   1779\u001b[0m \u001b[38;5;66;03m# If we don't have any hooks, we want to skip the rest of the logic in\u001b[39;00m\n\u001b[0;32m   1780\u001b[0m \u001b[38;5;66;03m# this function, and just call forward.\u001b[39;00m\n\u001b[0;32m   1781\u001b[0m \u001b[38;5;28;01mif\u001b[39;00m \u001b[38;5;129;01mnot\u001b[39;00m (\u001b[38;5;28mself\u001b[39m\u001b[38;5;241m.\u001b[39m_backward_hooks \u001b[38;5;129;01mor\u001b[39;00m \u001b[38;5;28mself\u001b[39m\u001b[38;5;241m.\u001b[39m_backward_pre_hooks \u001b[38;5;129;01mor\u001b[39;00m \u001b[38;5;28mself\u001b[39m\u001b[38;5;241m.\u001b[39m_forward_hooks \u001b[38;5;129;01mor\u001b[39;00m \u001b[38;5;28mself\u001b[39m\u001b[38;5;241m.\u001b[39m_forward_pre_hooks\n\u001b[0;32m   1782\u001b[0m         \u001b[38;5;129;01mor\u001b[39;00m _global_backward_pre_hooks \u001b[38;5;129;01mor\u001b[39;00m _global_backward_hooks\n\u001b[0;32m   1783\u001b[0m         \u001b[38;5;129;01mor\u001b[39;00m _global_forward_hooks \u001b[38;5;129;01mor\u001b[39;00m _global_forward_pre_hooks):\n\u001b[1;32m-> 1784\u001b[0m     \u001b[38;5;28;01mreturn\u001b[39;00m forward_call(\u001b[38;5;241m*\u001b[39margs, \u001b[38;5;241m*\u001b[39m\u001b[38;5;241m*\u001b[39mkwargs)\n\u001b[0;32m   1786\u001b[0m result \u001b[38;5;241m=\u001b[39m \u001b[38;5;28;01mNone\u001b[39;00m\n\u001b[0;32m   1787\u001b[0m called_always_called_hooks \u001b[38;5;241m=\u001b[39m \u001b[38;5;28mset\u001b[39m()\n",
      "File \u001b[1;32mc:\\Users\\aliza\\Desktop\\og_behaviour\\.venv\\lib\\site-packages\\torch\\nn\\modules\\container.py:244\u001b[0m, in \u001b[0;36mSequential.forward\u001b[1;34m(self, input)\u001b[0m\n\u001b[0;32m    242\u001b[0m \u001b[38;5;28;01mdef\u001b[39;00m\u001b[38;5;250m \u001b[39m\u001b[38;5;21mforward\u001b[39m(\u001b[38;5;28mself\u001b[39m, \u001b[38;5;28minput\u001b[39m):\n\u001b[0;32m    243\u001b[0m     \u001b[38;5;28;01mfor\u001b[39;00m module \u001b[38;5;129;01min\u001b[39;00m \u001b[38;5;28mself\u001b[39m:\n\u001b[1;32m--> 244\u001b[0m         \u001b[38;5;28minput\u001b[39m \u001b[38;5;241m=\u001b[39m \u001b[43mmodule\u001b[49m\u001b[43m(\u001b[49m\u001b[38;5;28;43minput\u001b[39;49m\u001b[43m)\u001b[49m\n\u001b[0;32m    245\u001b[0m     \u001b[38;5;28;01mreturn\u001b[39;00m \u001b[38;5;28minput\u001b[39m\n",
      "File \u001b[1;32mc:\\Users\\aliza\\Desktop\\og_behaviour\\.venv\\lib\\site-packages\\torch\\nn\\modules\\module.py:1773\u001b[0m, in \u001b[0;36mModule._wrapped_call_impl\u001b[1;34m(self, *args, **kwargs)\u001b[0m\n\u001b[0;32m   1771\u001b[0m     \u001b[38;5;28;01mreturn\u001b[39;00m \u001b[38;5;28mself\u001b[39m\u001b[38;5;241m.\u001b[39m_compiled_call_impl(\u001b[38;5;241m*\u001b[39margs, \u001b[38;5;241m*\u001b[39m\u001b[38;5;241m*\u001b[39mkwargs)  \u001b[38;5;66;03m# type: ignore[misc]\u001b[39;00m\n\u001b[0;32m   1772\u001b[0m \u001b[38;5;28;01melse\u001b[39;00m:\n\u001b[1;32m-> 1773\u001b[0m     \u001b[38;5;28;01mreturn\u001b[39;00m \u001b[38;5;28mself\u001b[39m\u001b[38;5;241m.\u001b[39m_call_impl(\u001b[38;5;241m*\u001b[39margs, \u001b[38;5;241m*\u001b[39m\u001b[38;5;241m*\u001b[39mkwargs)\n",
      "File \u001b[1;32mc:\\Users\\aliza\\Desktop\\og_behaviour\\.venv\\lib\\site-packages\\torch\\nn\\modules\\module.py:1784\u001b[0m, in \u001b[0;36mModule._call_impl\u001b[1;34m(self, *args, **kwargs)\u001b[0m\n\u001b[0;32m   1779\u001b[0m \u001b[38;5;66;03m# If we don't have any hooks, we want to skip the rest of the logic in\u001b[39;00m\n\u001b[0;32m   1780\u001b[0m \u001b[38;5;66;03m# this function, and just call forward.\u001b[39;00m\n\u001b[0;32m   1781\u001b[0m \u001b[38;5;28;01mif\u001b[39;00m \u001b[38;5;129;01mnot\u001b[39;00m (\u001b[38;5;28mself\u001b[39m\u001b[38;5;241m.\u001b[39m_backward_hooks \u001b[38;5;129;01mor\u001b[39;00m \u001b[38;5;28mself\u001b[39m\u001b[38;5;241m.\u001b[39m_backward_pre_hooks \u001b[38;5;129;01mor\u001b[39;00m \u001b[38;5;28mself\u001b[39m\u001b[38;5;241m.\u001b[39m_forward_hooks \u001b[38;5;129;01mor\u001b[39;00m \u001b[38;5;28mself\u001b[39m\u001b[38;5;241m.\u001b[39m_forward_pre_hooks\n\u001b[0;32m   1782\u001b[0m         \u001b[38;5;129;01mor\u001b[39;00m _global_backward_pre_hooks \u001b[38;5;129;01mor\u001b[39;00m _global_backward_hooks\n\u001b[0;32m   1783\u001b[0m         \u001b[38;5;129;01mor\u001b[39;00m _global_forward_hooks \u001b[38;5;129;01mor\u001b[39;00m _global_forward_pre_hooks):\n\u001b[1;32m-> 1784\u001b[0m     \u001b[38;5;28;01mreturn\u001b[39;00m forward_call(\u001b[38;5;241m*\u001b[39margs, \u001b[38;5;241m*\u001b[39m\u001b[38;5;241m*\u001b[39mkwargs)\n\u001b[0;32m   1786\u001b[0m result \u001b[38;5;241m=\u001b[39m \u001b[38;5;28;01mNone\u001b[39;00m\n\u001b[0;32m   1787\u001b[0m called_always_called_hooks \u001b[38;5;241m=\u001b[39m \u001b[38;5;28mset\u001b[39m()\n",
      "File \u001b[1;32mc:\\Users\\aliza\\Desktop\\og_behaviour\\.venv\\lib\\site-packages\\torch\\nn\\modules\\conv.py:548\u001b[0m, in \u001b[0;36mConv2d.forward\u001b[1;34m(self, input)\u001b[0m\n\u001b[0;32m    547\u001b[0m \u001b[38;5;28;01mdef\u001b[39;00m\u001b[38;5;250m \u001b[39m\u001b[38;5;21mforward\u001b[39m(\u001b[38;5;28mself\u001b[39m, \u001b[38;5;28minput\u001b[39m: Tensor) \u001b[38;5;241m-\u001b[39m\u001b[38;5;241m>\u001b[39m Tensor:\n\u001b[1;32m--> 548\u001b[0m     \u001b[38;5;28;01mreturn\u001b[39;00m \u001b[38;5;28;43mself\u001b[39;49m\u001b[38;5;241;43m.\u001b[39;49m\u001b[43m_conv_forward\u001b[49m\u001b[43m(\u001b[49m\u001b[38;5;28;43minput\u001b[39;49m\u001b[43m,\u001b[49m\u001b[43m \u001b[49m\u001b[38;5;28;43mself\u001b[39;49m\u001b[38;5;241;43m.\u001b[39;49m\u001b[43mweight\u001b[49m\u001b[43m,\u001b[49m\u001b[43m \u001b[49m\u001b[38;5;28;43mself\u001b[39;49m\u001b[38;5;241;43m.\u001b[39;49m\u001b[43mbias\u001b[49m\u001b[43m)\u001b[49m\n",
      "File \u001b[1;32mc:\\Users\\aliza\\Desktop\\og_behaviour\\.venv\\lib\\site-packages\\torch\\nn\\modules\\conv.py:543\u001b[0m, in \u001b[0;36mConv2d._conv_forward\u001b[1;34m(self, input, weight, bias)\u001b[0m\n\u001b[0;32m    531\u001b[0m \u001b[38;5;28;01mif\u001b[39;00m \u001b[38;5;28mself\u001b[39m\u001b[38;5;241m.\u001b[39mpadding_mode \u001b[38;5;241m!=\u001b[39m \u001b[38;5;124m\"\u001b[39m\u001b[38;5;124mzeros\u001b[39m\u001b[38;5;124m\"\u001b[39m:\n\u001b[0;32m    532\u001b[0m     \u001b[38;5;28;01mreturn\u001b[39;00m F\u001b[38;5;241m.\u001b[39mconv2d(\n\u001b[0;32m    533\u001b[0m         F\u001b[38;5;241m.\u001b[39mpad(\n\u001b[0;32m    534\u001b[0m             \u001b[38;5;28minput\u001b[39m, \u001b[38;5;28mself\u001b[39m\u001b[38;5;241m.\u001b[39m_reversed_padding_repeated_twice, mode\u001b[38;5;241m=\u001b[39m\u001b[38;5;28mself\u001b[39m\u001b[38;5;241m.\u001b[39mpadding_mode\n\u001b[1;32m   (...)\u001b[0m\n\u001b[0;32m    541\u001b[0m         \u001b[38;5;28mself\u001b[39m\u001b[38;5;241m.\u001b[39mgroups,\n\u001b[0;32m    542\u001b[0m     )\n\u001b[1;32m--> 543\u001b[0m \u001b[38;5;28;01mreturn\u001b[39;00m \u001b[43mF\u001b[49m\u001b[38;5;241;43m.\u001b[39;49m\u001b[43mconv2d\u001b[49m\u001b[43m(\u001b[49m\n\u001b[0;32m    544\u001b[0m \u001b[43m    \u001b[49m\u001b[38;5;28;43minput\u001b[39;49m\u001b[43m,\u001b[49m\u001b[43m \u001b[49m\u001b[43mweight\u001b[49m\u001b[43m,\u001b[49m\u001b[43m \u001b[49m\u001b[43mbias\u001b[49m\u001b[43m,\u001b[49m\u001b[43m \u001b[49m\u001b[38;5;28;43mself\u001b[39;49m\u001b[38;5;241;43m.\u001b[39;49m\u001b[43mstride\u001b[49m\u001b[43m,\u001b[49m\u001b[43m \u001b[49m\u001b[38;5;28;43mself\u001b[39;49m\u001b[38;5;241;43m.\u001b[39;49m\u001b[43mpadding\u001b[49m\u001b[43m,\u001b[49m\u001b[43m \u001b[49m\u001b[38;5;28;43mself\u001b[39;49m\u001b[38;5;241;43m.\u001b[39;49m\u001b[43mdilation\u001b[49m\u001b[43m,\u001b[49m\u001b[43m \u001b[49m\u001b[38;5;28;43mself\u001b[39;49m\u001b[38;5;241;43m.\u001b[39;49m\u001b[43mgroups\u001b[49m\n\u001b[0;32m    545\u001b[0m \u001b[43m\u001b[49m\u001b[43m)\u001b[49m\n",
      "\u001b[1;31mKeyboardInterrupt\u001b[0m: "
     ]
    }
   ],
   "source": [
    "(train_features, train_masks), train_labels = prepare_all_videos(train_df, \" \")\n",
    "(test_features, test_masks), test_labels = prepare_all_videos(test_df, \" \")\n",
    "#156\n",
    "#167"
   ]
  },
  {
   "cell_type": "code",
   "execution_count": null,
   "id": "8d96c56b",
   "metadata": {},
   "outputs": [
    {
     "name": "stdout",
     "output_type": "stream",
     "text": [
      "0 samples have zero valid frames in training data\n",
      "0 samples have zero valid frames in testing data\n"
     ]
    }
   ],
   "source": [
    "print((train_masks.sum(dim=1) == 0).sum().item(), \"samples have zero valid frames in training data\")\n",
    "print((test_masks.sum(dim=1) == 0).sum().item(), \"samples have zero valid frames in testing data\")"
   ]
  },
  {
   "cell_type": "code",
   "execution_count": null,
   "id": "b199c77e",
   "metadata": {},
   "outputs": [],
   "source": [
    "#lstm sequence model\n",
    "import torch\n",
    "import torch.nn as nn\n",
    "import torch.nn.functional as F\n",
    "\n",
    "class LSTMSequenceModel(nn.Module):\n",
    "    def __init__(self, num_features, max_seq_length, num_classes):\n",
    "        super().__init__()\n",
    "        self.lstm1 = nn.LSTM(input_size=num_features, hidden_size=16, num_layers=1, batch_first=True)\n",
    "        self.lstm2 = nn.LSTM(input_size=16, hidden_size=8, num_layers=1, batch_first=True)\n",
    "        self.dropout = nn.Dropout(0.4)\n",
    "        self.fc1 = nn.Linear(8, 8)\n",
    "        self.fc2 = nn.Linear(8, num_classes)\n",
    "    def forward(self, x, mask=None):\n",
    "        # x: (batch_size, seq_len, num_features)\n",
    "        lengths = mask.sum(dim=1) if mask is not None else torch.full((x.size(0),), x.size(1), dtype=torch.long).to(x.device)\n",
    "        lengths = torch.clamp(lengths, min=1)  # Prevent zero lengths\n",
    "        # Pack padded sequence for the LSTM\n",
    "        packed = nn.utils.rnn.pack_padded_sequence(x, lengths.cpu(), batch_first=True, enforce_sorted=False)\n",
    "        packed_output, (h1, _) = self.lstm1(packed)\n",
    "        packed_output, (h2, _) = self.lstm2(packed_output)\n",
    "        output, _ = nn.utils.rnn.pad_packed_sequence(packed_output, batch_first=True, total_length=x.size(1))\n",
    "\n",
    "        # Get the last valid output in each sequence according to actual length\n",
    "        idx = (lengths - 1).unsqueeze(1).unsqueeze(2).expand(-1, 1, output.shape[2])\n",
    "        last_outputs = output.gather(1, idx).squeeze(1)\n",
    "        x = self.dropout(last_outputs)\n",
    "        x = F.relu(self.fc1(x))\n",
    "        x = self.fc2(x)\n",
    "        #print(x.shape) 16,2\n",
    "        return x  # logits\n",
    "\n"
   ]
  },
  {
   "cell_type": "code",
   "execution_count": null,
   "id": "02617938",
   "metadata": {},
   "outputs": [],
   "source": [
    "from torch.utils.data import TensorDataset, DataLoader\n",
    "\n",
    "\n",
    "train_dataset = TensorDataset(train_features, train_masks, train_labels)\n",
    "train_loader = DataLoader(train_dataset, batch_size=BATCH_SIZE, shuffle=True)\n",
    "\n",
    "val_dataset = TensorDataset(test_features, test_masks, test_labels)  # if using validation set\n",
    "val_loader = DataLoader(val_dataset, batch_size=BATCH_SIZE, shuffle=False)\n"
   ]
  },
  {
   "cell_type": "code",
   "execution_count": null,
   "id": "3d61ab43",
   "metadata": {},
   "outputs": [
    {
     "ename": "NameError",
     "evalue": "name 'NUM_CLASSES' is not defined",
     "output_type": "error",
     "traceback": [
      "\u001b[1;31m---------------------------------------------------------------------------\u001b[0m",
      "\u001b[1;31mNameError\u001b[0m                                 Traceback (most recent call last)",
      "Cell \u001b[1;32mIn[11], line 1\u001b[0m\n\u001b[1;32m----> 1\u001b[0m model \u001b[38;5;241m=\u001b[39m LSTMSequenceModel(num_features\u001b[38;5;241m=\u001b[39mNUM_FEATURES, max_seq_length\u001b[38;5;241m=\u001b[39mMAX_SEQ_LENGTH, num_classes\u001b[38;5;241m=\u001b[39m\u001b[43mNUM_CLASSES\u001b[49m)\n",
      "\u001b[1;31mNameError\u001b[0m: name 'NUM_CLASSES' is not defined"
     ]
    }
   ],
   "source": [
    "model = LSTMSequenceModel(num_features=NUM_FEATURES, max_seq_length=MAX_SEQ_LENGTH, num_classes=num_classes)"
   ]
  },
  {
   "cell_type": "code",
   "execution_count": null,
   "id": "89aad0e8",
   "metadata": {},
   "outputs": [
    {
     "ename": "NameError",
     "evalue": "name 'train_features' is not defined",
     "output_type": "error",
     "traceback": [
      "\u001b[1;31m---------------------------------------------------------------------------\u001b[0m",
      "\u001b[1;31mNameError\u001b[0m                                 Traceback (most recent call last)",
      "Cell \u001b[1;32mIn[10], line 1\u001b[0m\n\u001b[1;32m----> 1\u001b[0m NUM_FEATURES \u001b[38;5;241m=\u001b[39m \u001b[43mtrain_features\u001b[49m\u001b[38;5;241m.\u001b[39mshape[\u001b[38;5;241m2\u001b[39m]\n\u001b[0;32m      2\u001b[0m MAX_SEQ_LENGTH \u001b[38;5;241m=\u001b[39m train_features\u001b[38;5;241m.\u001b[39mshape[\u001b[38;5;241m1\u001b[39m]\n\u001b[0;32m      3\u001b[0m NUM_CLASSES \u001b[38;5;241m=\u001b[39m \u001b[38;5;28mlen\u001b[39m(torch\u001b[38;5;241m.\u001b[39munique(train_labels))\n",
      "\u001b[1;31mNameError\u001b[0m: name 'train_features' is not defined"
     ]
    }
   ],
   "source": [
    "NUM_FEATURES = train_features.shape[2]\n",
    "MAX_SEQ_LENGTH = train_features.shape[1]\n",
    "NUM_CLASSES = len(torch.unique(train_labels))\n",
    "model = LSTMSequenceModel(num_features=NUM_FEATURES, max_seq_length=MAX_SEQ_LENGTH, num_classes=NUM_CLASSES)\n",
    "\n",
    "device = \"cuda\" if torch.cuda.is_available() else \"cpu\"\n",
    "model = model.to(device)\n"
   ]
  },
  {
   "cell_type": "code",
   "execution_count": null,
   "id": "62eacb8e",
   "metadata": {},
   "outputs": [
    {
     "name": "stdout",
     "output_type": "stream",
     "text": [
      "Epoch 1/20 - Train loss: 0.4685, Train Acc: 0.8217, Val Acc: 0.7630\n",
      "Epoch 2/20 - Train loss: 0.4601, Train Acc: 0.8290, Val Acc: 0.7861\n",
      "Epoch 3/20 - Train loss: 0.3997, Train Acc: 0.8652, Val Acc: 0.7977\n",
      "Epoch 4/20 - Train loss: 0.5198, Train Acc: 0.7913, Val Acc: 0.7803\n",
      "Epoch 5/20 - Train loss: 0.4608, Train Acc: 0.8319, Val Acc: 0.8382\n",
      "Epoch 6/20 - Train loss: 0.4166, Train Acc: 0.8580, Val Acc: 0.6474\n",
      "Epoch 7/20 - Train loss: 0.4339, Train Acc: 0.8449, Val Acc: 0.8497\n",
      "Epoch 8/20 - Train loss: 0.4132, Train Acc: 0.8565, Val Acc: 0.8150\n",
      "Epoch 9/20 - Train loss: 0.3870, Train Acc: 0.8667, Val Acc: 0.8208\n",
      "Epoch 10/20 - Train loss: 0.3259, Train Acc: 0.9014, Val Acc: 0.8555\n",
      "Epoch 11/20 - Train loss: 0.3932, Train Acc: 0.8580, Val Acc: 0.8324\n",
      "Epoch 12/20 - Train loss: 0.3410, Train Acc: 0.8841, Val Acc: 0.8497\n",
      "Epoch 13/20 - Train loss: 0.3091, Train Acc: 0.8928, Val Acc: 0.8324\n",
      "Epoch 14/20 - Train loss: 0.3888, Train Acc: 0.8594, Val Acc: 0.8092\n",
      "Epoch 15/20 - Train loss: 0.2991, Train Acc: 0.8884, Val Acc: 0.8555\n",
      "Epoch 16/20 - Train loss: 0.2612, Train Acc: 0.9174, Val Acc: 0.8786\n",
      "Epoch 17/20 - Train loss: 0.2941, Train Acc: 0.9101, Val Acc: 0.8324\n",
      "Epoch 18/20 - Train loss: 0.3699, Train Acc: 0.8739, Val Acc: 0.8324\n",
      "Epoch 19/20 - Train loss: 0.2961, Train Acc: 0.9029, Val Acc: 0.8902\n",
      "Epoch 20/20 - Train loss: 0.2588, Train Acc: 0.9232, Val Acc: 0.9017\n"
     ]
    }
   ],
   "source": [
    "import torch.nn as nn\n",
    "EPOCHS = 20\n",
    "LEARNING_RATE = 1e-3\n",
    "criterion = nn.CrossEntropyLoss()\n",
    "optimizer = torch.optim.Adam(model.parameters(), lr=LEARNING_RATE)\n",
    "\n",
    "best_val_acc = 0.0\n",
    "best_model_state = None\n",
    "\n",
    "for epoch in range(EPOCHS):\n",
    "    model.train()\n",
    "    train_loss = 0.0\n",
    "    train_correct = 0\n",
    "    train_total = 0\n",
    "\n",
    "    for batch in train_loader:\n",
    "        features, masks, labels = [x.to(device) for x in batch]  # Unpack batch\n",
    "        optimizer.zero_grad()\n",
    "        logits = model(features, masks)\n",
    "        loss = criterion(logits, labels)\n",
    "        loss.backward()\n",
    "        optimizer.step()\n",
    "\n",
    "        train_loss += loss.item() * features.size(0)\n",
    "        preds = logits.argmax(1)\n",
    "        train_correct += (preds == labels).sum().item()\n",
    "        train_total += labels.size(0)\n",
    "\n",
    "    train_acc = train_correct / train_total\n",
    "    avg_train_loss = train_loss / train_total\n",
    "\n",
    "    # Validation\n",
    "    model.eval()\n",
    "    val_correct = 0\n",
    "    val_total = 0\n",
    "    with torch.no_grad():\n",
    "        for batch in val_loader:\n",
    "            features, masks, labels = [x.to(device) for x in batch]\n",
    "            logits = model(features, masks)\n",
    "            preds = logits.argmax(1)\n",
    "            val_correct += (preds == labels).sum().item()\n",
    "            val_total += labels.size(0)\n",
    "    val_acc = val_correct / val_total\n",
    "\n",
    "    print(f\"Epoch {epoch+1}/{EPOCHS} - Train loss: {avg_train_loss:.4f}, Train Acc: {train_acc:.4f}, Val Acc: {val_acc:.4f}\")\n",
    "\n",
    "    # Save best model\n",
    "    if val_acc > best_val_acc:\n",
    "        best_val_acc = val_acc\n",
    "        best_model_state = model.state_dict().copy()\n",
    "\n",
    "# Restore best model\n",
    "if best_model_state:\n",
    "    model.load_state_dict(best_model_state)\n"
   ]
  },
  {
   "cell_type": "code",
   "execution_count": null,
   "id": "39a573dc",
   "metadata": {},
   "outputs": [],
   "source": [
    "# Save\n",
    "torch.save(model.state_dict(), \"model.pth\")\n",
    "torch.save({\n",
    "    'epoch': EPOCHS,  # current epoch index (0-based)\n",
    "    'model_state_dict': model.state_dict(),\n",
    "    'optimizer_state_dict': optimizer.state_dict(),\n",
    "}, 'checkpoint.pth')\n"
   ]
  },
  {
   "cell_type": "code",
   "execution_count": null,
   "id": "aa2ae151",
   "metadata": {},
   "outputs": [
    {
     "name": "stdout",
     "output_type": "stream",
     "text": [
      "Test accuracy: 90.17%\n"
     ]
    }
   ],
   "source": [
    "model.eval()\n",
    "test_correct = 0\n",
    "test_total = 0\n",
    "with torch.no_grad():\n",
    "    for batch in val_loader:\n",
    "        features, masks, labels = [x.to(device) for x in batch]\n",
    "        logits = model(features, masks)\n",
    "        preds = logits.argmax(1)\n",
    "        test_correct += (preds == labels).sum().item()\n",
    "        test_total += labels.size(0)\n",
    "test_acc = test_correct / test_total\n",
    "print(f\"Test accuracy: {test_acc*100:.2f}%\")\n",
    "\n",
    "#72.83 in in 10 epochs"
   ]
  },
  {
   "cell_type": "code",
   "execution_count": null,
   "id": "cd761140",
   "metadata": {},
   "outputs": [],
   "source": [
    "import sys\n",
    "sys.path.append(r\"C:\\Users\\aliza\\Desktop\\hakathon\\LSTMSequenceModel_.py\")   \n",
    "\n"
   ]
  },
  {
   "cell_type": "code",
   "execution_count": null,
   "id": "8c6056cc",
   "metadata": {},
   "outputs": [
    {
     "ename": "NameError",
     "evalue": "name 'NUM_CLASSES' is not defined",
     "output_type": "error",
     "traceback": [
      "\u001b[1;31m---------------------------------------------------------------------------\u001b[0m",
      "\u001b[1;31mNameError\u001b[0m                                 Traceback (most recent call last)",
      "Cell \u001b[1;32mIn[29], line 4\u001b[0m\n\u001b[0;32m      1\u001b[0m \u001b[38;5;28;01mfrom\u001b[39;00m\u001b[38;5;250m \u001b[39m\u001b[38;5;21;01mLSTMSequenceModel_\u001b[39;00m\u001b[38;5;250m \u001b[39m\u001b[38;5;28;01mimport\u001b[39;00m LSTMSequenceModel\n\u001b[0;32m      3\u001b[0m \u001b[38;5;66;03m# Create model instance with the correct args\u001b[39;00m\n\u001b[1;32m----> 4\u001b[0m model \u001b[38;5;241m=\u001b[39m LSTMSequenceModel(num_features\u001b[38;5;241m=\u001b[39mNUM_FEATURES, max_seq_length\u001b[38;5;241m=\u001b[39mMAX_SEQ_LENGTH, num_classes\u001b[38;5;241m=\u001b[39m\u001b[43mNUM_CLASSES\u001b[49m)\n\u001b[0;32m      5\u001b[0m \u001b[38;5;66;03m# Load trained weights\u001b[39;00m\n\u001b[0;32m      6\u001b[0m model\u001b[38;5;241m.\u001b[39mload_state_dict(torch\u001b[38;5;241m.\u001b[39mload(\u001b[38;5;124m\"\u001b[39m\u001b[38;5;124mmodel.pth\u001b[39m\u001b[38;5;124m\"\u001b[39m, map_location\u001b[38;5;241m=\u001b[39mdevice))\n",
      "\u001b[1;31mNameError\u001b[0m: name 'NUM_CLASSES' is not defined"
     ]
    }
   ],
   "source": [
    "from LSTMSequenceModel_ import LSTMSequenceModel\n",
    "\n",
    "# Create model instance with the correct args\n",
    "model = LSTMSequenceModel(num_features=NUM_FEATURES, max_seq_length=MAX_SEQ_LENGTH, num_classes=NUM_CLASSES)\n",
    "# Load trained weights\n",
    "model.load_state_dict(torch.load(\"model.pth\", map_location=device))\n",
    "\n",
    "# Send to GPU/CPU and set to eval mode\n",
    "model.to(device).eval()\n"
   ]
  },
  {
   "cell_type": "code",
   "execution_count": null,
   "id": "baf12a6a",
   "metadata": {},
   "outputs": [
    {
     "name": "stdout",
     "output_type": "stream",
     "text": [
      "Prediction for video: C:\\Users\\aliza\\Desktop\\hakathon\\Alia Bhatt-fake.mp4\n",
      "  real: 91.86%\n",
      "  fake:  8.14%\n"
     ]
    },
    {
     "data": {
      "text/plain": [
       "array([0.91859704, 0.08140292], dtype=float32)"
      ]
     },
     "execution_count": 32,
     "metadata": {},
     "output_type": "execute_result"
    }
   ],
   "source": [
    "import torch\n",
    "import numpy as np\n",
    "import os\n",
    "import frame_constructor as fc  # Your feature extraction module\n",
    "\n",
    "# Define constants (set these as per your setup)\n",
    "IMG_SIZE = 224\n",
    "BATCH_SIZE = 16\n",
    "EPOCHS = 10\n",
    "MAX_SEQ_LENGTH = 300 # Maximum number of frames to use per video\n",
    "NUM_FEATURES = 1280 # Number of features extracted by MobileNetV2\n",
    "device = torch.device(\"cuda\" if torch.cuda.is_available() else \"cpu\")\n",
    "\n",
    "# Hardcoded class vocabulary corresponding to your label encoding\n",
    "class_vocab = [\"real\", \"fake\"]  # index 0 = not_aggressive, 1 = aggressive\n",
    "from LSTMSequenceModel_ import LSTMSequenceModel\n",
    "\n",
    "# Create model instance with the correct args\n",
    "model = LSTMSequenceModel(\n",
    "    num_features=NUM_FEATURES,\n",
    "    max_seq_length=MAX_SEQ_LENGTH,\n",
    "    num_classes=len(class_vocab)\n",
    ")\n",
    "# Load trained weights\n",
    "model.load_state_dict(torch.load(\"model.pth\", map_location=device))\n",
    "\n",
    "# Send to GPU/CPU and set to eval mode\n",
    "model.to(device).eval()\n",
    "\n",
    "# Your loaded PyTorch models\n",
    "# feature_extractor: feature extraction model\n",
    "# model: your LSTMSequenceModel or equivalent for classification\n",
    "# Make sure they are both on the correct device\n",
    "#model = \"model.pth\"  # Path to your trained model\n",
    "feature_extractor.to(device).eval()\n",
    "#model.to(device).eval()\n",
    "\n",
    "def prepare_single_video(video_path):\n",
    "    frames = fc.frame_cons(video_path)  # (num_frames, H, W, C)\n",
    "    frame_mask = torch.zeros((1, MAX_SEQ_LENGTH), dtype=torch.bool)\n",
    "    frame_features = torch.zeros((1, MAX_SEQ_LENGTH, NUM_FEATURES), dtype=torch.float32)\n",
    "    length = min(MAX_SEQ_LENGTH, frames.shape[0])\n",
    "    for j in range(length):\n",
    "        frame = frames[j]\n",
    "        frame_tensor = torch.from_numpy(frame).permute(2, 0, 1).unsqueeze(0).float() / 255.0\n",
    "        mean = torch.tensor([0.485, 0.456, 0.406], device=frame_tensor.device).view(1, 3, 1, 1)\n",
    "        std = torch.tensor([0.229, 0.224, 0.225], device=frame_tensor.device).view(1, 3, 1, 1)\n",
    "        frame_tensor = (frame_tensor - mean) / std\n",
    "        frame_tensor = frame_tensor.to(device)\n",
    "        with torch.no_grad():\n",
    "            feat = feature_extractor(frame_tensor)  # output shape (1, 2048)\n",
    "        frame_features[0, j, :] = feat.squeeze(0).cpu()\n",
    "    frame_mask[0, :length] = 1\n",
    "    return frame_features, frame_mask\n",
    "\n",
    "\n",
    "def sequence_prediction(video_path):\n",
    "    frame_features, frame_mask = prepare_single_video(video_path)\n",
    "    frame_features = frame_features.to(device)\n",
    "    frame_mask = frame_mask.to(device)\n",
    "\n",
    "    with torch.no_grad():\n",
    "        logits = model(frame_features, frame_mask)\n",
    "        probabilities = torch.softmax(logits, dim=-1).cpu().numpy()[0]\n",
    "\n",
    "    print(f\"Prediction for video: {video_path}\")\n",
    "    for i in np.argsort(probabilities)[::-1]:\n",
    "        print(f\"  {class_vocab[i]}: {probabilities[i]*100:5.2f}%\")\n",
    "\n",
    "    return probabilities\n",
    "\n",
    "# Example usage:\n",
    "#video_path = r\"C:\\Users\\aliza\\Desktop\\hakathon\\archive\\DFD_manipulated_sequences\\26_12__outside_talking_still_laughing__LI63E4TS.mp4\"\n",
    "video_path=r'C:\\Users\\aliza\\Desktop\\hakathon\\Alia Bhatt-fake.mp4'\n",
    "sequence_prediction(video_path)\n"
   ]
  },
  {
   "cell_type": "code",
   "execution_count": null,
   "id": "cc3b619f",
   "metadata": {},
   "outputs": [],
   "source": []
  }
 ],
 "metadata": {
  "kernelspec": {
   "display_name": ".venv",
   "language": "python",
   "name": "python3"
  },
  "language_info": {
   "codemirror_mode": {
    "name": "ipython",
    "version": 3
   },
   "file_extension": ".py",
   "mimetype": "text/x-python",
   "name": "python",
   "nbconvert_exporter": "python",
   "pygments_lexer": "ipython3",
   "version": "3.10.5"
  }
 },
 "nbformat": 4,
 "nbformat_minor": 5
}
