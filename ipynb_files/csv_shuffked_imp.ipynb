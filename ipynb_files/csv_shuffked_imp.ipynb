{
 "cells": [
  {
   "cell_type": "code",
   "execution_count": 4,
   "id": "819a9d1a",
   "metadata": {},
   "outputs": [
    {
     "data": {
      "text/plain": [
       "'  \\n#Creates an array of False values of shape (1, MAX_SEQ_LENGTH)\\n#Example: if MAX_SEQ_LENGTH = 20, shape = (1, 20)\\n#Purpose: later we\\'ll mark which frames are real (1) vs padding (0)\\n#dtype=\"bool\"  values are either True/False\\n#This is a mask: it tells the model which timesteps to pay attention to.\\n\\n\\nframe_masks: Boolean array marking which timesteps are valid (not padding).\\n\\nExample: For a video with 13 frames, first 13 cells True, remaining 7 False.\\n\\n\\nframe_features: Placeholder for extracted features from each frame of each video.\\n\\nExample: For 145 videos, shape is (145, 20, 2048).\\n\\n\\nfor idx, path in enumerate(video_paths):\\nframes = load_video(os.path.join(root_dir, path))\\nframes = frames[None, ...]\\nload_video: Reads all frames from a video file.\\n\\nExample: video1.mp4 → array of shape (30, 224, 224, 3).\\n\\nframes[None, ...]: Adds a batch dimension, makes the shape (1, video_length, IMG_SIZE, IMG_SIZE, 3).\\n\\n\\n\\nfeature model:\\nPass your frames as (batch, 3, 224, 224) after preprocessing.\\n\\nThe model will always return (batch, 1280).\\n\\n'"
      ]
     },
     "execution_count": 4,
     "metadata": {},
     "output_type": "execute_result"
    }
   ],
   "source": [
    "    \"\"\"\n",
    "    Args:\n",
    "        df (pd.DataFrame): dataframe containing 'video_name' and integer 'label' columns already encoded outside.\n",
    "        root_dir (str): directory path where videos are located.\n",
    "        feature_extractor (callable): PyTorch model/function that takes a batch of frames and outputs features.\n",
    "        max_seq_length (int): max number of frames to use per video.\n",
    "        num_features (int): number of features extracted per frame.\n",
    "\n",
    "    Returns:\n",
    "        frame_features (torch.Tensor): tensor of shape (num_samples, max_seq_length, num_features), float32\n",
    "        frame_masks (torch.BoolTensor): tensor of shape (num_samples, max_seq_length), True if frame present else False\n",
    "        labels (torch.LongTensor): tensor of shape (num_samples,)\n",
    "    \"\"\"\n",
    "\n",
    "\n",
    "    '''  \n",
    "#Creates an array of False values of shape (1, MAX_SEQ_LENGTH)\n",
    "#Example: if MAX_SEQ_LENGTH = 20, shape = (1, 20)\n",
    "#Purpose: later we'll mark which frames are real (1) vs padding (0)\n",
    "#dtype=\"bool\"  values are either True/False\n",
    "#This is a mask: it tells the model which timesteps to pay attention to.\n",
    "\n",
    "\n",
    "frame_masks: Boolean array marking which timesteps are valid (not padding).\n",
    "\n",
    "Example: For a video with 13 frames, first 13 cells True, remaining 7 False.\n",
    "\n",
    "\n",
    "frame_features: Placeholder for extracted features from each frame of each video.\n",
    "\n",
    "Example: For 145 videos, shape is (145, 20, 2048).\n",
    "\n",
    "\n",
    "for idx, path in enumerate(video_paths):\n",
    "    frames = load_video(os.path.join(root_dir, path))\n",
    "    frames = frames[None, ...]\n",
    "load_video: Reads all frames from a video file.\n",
    "\n",
    "Example: video1.mp4 → array of shape (30, 224, 224, 3).\n",
    "\n",
    "frames[None, ...]: Adds a batch dimension, makes the shape (1, video_length, IMG_SIZE, IMG_SIZE, 3).\n",
    "\n",
    "\n",
    "\n",
    "feature model:\n",
    "Pass your frames as (batch, 3, 224, 224) after preprocessing.\n",
    "\n",
    "The model will always return (batch, 1280).\n",
    "\n",
    "'''"
   ]
  },
  {
   "cell_type": "code",
   "execution_count": 5,
   "id": "5c143c80",
   "metadata": {},
   "outputs": [],
   "source": [
    "#If you prefer more control or need to preprocess labels differently.\n",
    "#If you want to reuse the same processed labels in multiple places without re-encoding each time.\n",
    "#When you want to explicitly check or debug label encoding separately."
   ]
  },
  {
   "cell_type": "code",
   "execution_count": 6,
   "id": "6df85659",
   "metadata": {},
   "outputs": [
    {
     "name": "stderr",
     "output_type": "stream",
     "text": [
      "c:\\Users\\aliza\\Desktop\\og_behaviour\\.venv\\lib\\site-packages\\torchvision\\models\\_utils.py:208: UserWarning: The parameter 'pretrained' is deprecated since 0.13 and may be removed in the future, please use 'weights' instead.\n",
      "  warnings.warn(\n",
      "c:\\Users\\aliza\\Desktop\\og_behaviour\\.venv\\lib\\site-packages\\torchvision\\models\\_utils.py:223: UserWarning: Arguments other than a weight enum or `None` for 'weights' are deprecated since 0.13 and may be removed in the future. The current behavior is equivalent to passing `weights=MobileNet_V2_Weights.IMAGENET1K_V1`. You can also use `weights=MobileNet_V2_Weights.DEFAULT` to get the most up-to-date weights.\n",
      "  warnings.warn(msg)\n"
     ]
    }
   ],
   "source": [
    "import torch\n",
    "import torch.nn as nn\n",
    "import torchvision.models as models\n",
    "\n",
    "def build_feature_extractor():\n",
    "    \"\"\"\n",
    "    Returns a MobileNetV2 feature extractor (pretrained on ImageNet) that\n",
    "    outputs a 1280-dim feature vector for each image.\n",
    "    \"\"\"\n",
    "    mobilenet = models.mobilenet_v2(pretrained=True)\n",
    "    mobilenet.eval()  # Set to eval mode\n",
    "\n",
    "    # Remove the classifier head, so output is (batch, 1280, 1, 1)\n",
    "    feature_extractor = nn.Sequential(*list(mobilenet.children())[:-1])\n",
    "    \n",
    "    # Wrap to flatten features from (batch, 1280, 1, 1) to (batch, 1280)\n",
    "    class FlattenExtract(nn.Module):\n",
    "        def __init__(self, base):\n",
    "            super().__init__()\n",
    "            self.base = base\n",
    "        def forward(self, x):\n",
    "            x = self.base(x)\n",
    "            return x.view(x.size(0), -1)  # Flatten\n",
    "\n",
    "    return FlattenExtract(feature_extractor)\n",
    "\n",
    "# Usage:\n",
    "feature_extractor = build_feature_extractor()\n"
   ]
  },
  {
   "cell_type": "code",
   "execution_count": 7,
   "id": "5d70fcd7",
   "metadata": {},
   "outputs": [],
   "source": [
    "import torch.nn as nn\n",
    "import torchvision.models as models\n",
    "\n",
    "def build_feature_extractor():\n",
    "    mobilenet = models.mobilenet_v2(weights=\"IMAGENET1K_V1\")\n",
    "    mobilenet.eval()\n",
    "    # Remove classifier head, add adaptive pool and flatten\n",
    "    feature_extractor = nn.Sequential(\n",
    "        *list(mobilenet.children())[:-1],      # all but classifier\n",
    "        nn.AdaptiveAvgPool2d((1, 1)),         # global avg pool\n",
    "        nn.Flatten()\n",
    "    )\n",
    "    return feature_extractor\n",
    "\n",
    "# Usage:\n",
    "feature_extractor = build_feature_extractor()\n"
   ]
  },
  {
   "cell_type": "code",
   "execution_count": null,
   "id": "e7da54be",
   "metadata": {},
   "outputs": [
    {
     "name": "stdout",
     "output_type": "stream",
     "text": [
      "tensor([1, 1, 0, 0, 0, 0, 0, 0, 0, 0, 1, 0, 0, 0, 0, 0, 0, 0, 0, 1, 0, 0, 0, 0,\n",
      "        0, 0, 0, 0, 0, 1, 0, 0, 0, 0, 0, 0, 0, 0, 1, 1, 1, 0, 1, 0, 0, 0, 0, 0,\n",
      "        1, 1, 0, 1, 0, 0, 0, 0, 1, 0, 0, 0, 0, 0, 1, 0, 0, 0, 0, 0, 0, 0, 1, 0,\n",
      "        0, 0, 0, 1, 1, 0, 0, 0, 1, 1, 0, 0, 0, 0, 0, 0, 0, 0, 0, 0, 1, 0, 1, 0,\n",
      "        0, 0, 0, 0, 0, 0, 0, 0, 0, 1, 0, 0, 0, 0, 0, 0, 0, 0, 1, 0, 0, 0, 0, 0,\n",
      "        0, 0, 0, 0, 0, 0, 0, 0, 0, 1, 0, 0, 0, 0, 0, 0, 0, 0, 1, 0, 0, 0, 0, 0,\n",
      "        0, 0, 0, 0, 0, 1, 0, 1, 1, 1, 0, 0, 0, 0, 0, 0, 0, 0, 1, 0, 0, 0, 1, 0,\n",
      "        0, 1, 1, 0, 0, 0, 0, 0, 0, 1, 0, 0, 0, 0, 0, 1, 1, 0, 1, 0, 1, 0, 1, 0,\n",
      "        0, 0, 0, 0, 0, 0, 0, 0, 1, 0, 0, 0, 0, 0, 0, 1, 0, 0, 0, 1, 0, 0, 1, 0,\n",
      "        0, 1, 0, 0, 0, 0, 1, 0, 0, 0, 0, 0, 0, 0, 0, 0, 0, 0, 0, 1, 0, 0, 0, 1,\n",
      "        0, 0, 0, 0, 1, 0, 1, 0, 1, 0, 0, 0, 0, 0, 1, 0, 0, 0, 1, 1, 0, 1, 0, 0,\n",
      "        0, 0, 0, 0, 0, 0, 0, 0, 0, 0, 0, 1, 0, 0, 0, 0, 0, 0, 0, 0, 1, 0, 0, 0,\n",
      "        1, 0, 0, 0, 0, 0]) <class 'torch.Tensor'>\n"
     ]
    }
   ],
   "source": [
    "#test\n",
    "import pandas as pd\n",
    "import numpy as np\n",
    "import torch\n",
    "df=pd.read_csv(r'C:\\Users\\aliza\\Desktop\\og_behaviour\\dog_dataset_full_shuffled.csv')\n",
    " #convert classlabels to label encoding\n",
    "df = df.dropna(subset=['label']).reset_index(drop=True)\n",
    "df['label'] = df['label'].map({'aggressive': 1, 'not_aggressive': 0})\n",
    "labels= df['label'].astype(int) \n",
    "labels=torch.tensor(labels)\n",
    "print(labels,type(labels))\n",
    "\n"
   ]
  },
  {
   "cell_type": "code",
   "execution_count": 5,
   "id": "b4daaaa3",
   "metadata": {},
   "outputs": [
    {
     "name": "stdout",
     "output_type": "stream",
     "text": [
      "exists\n",
      "True    294\n",
      "Name: count, dtype: int64\n",
      "Empty DataFrame\n",
      "Columns: [video_path, action, label, exists]\n",
      "Index: []\n"
     ]
    }
   ],
   "source": [
    "import os\n",
    "import pandas as pd\n",
    "\n",
    "df = pd.read_csv(r\"C:\\Users\\aliza\\Desktop\\og_behaviour\\dog_dataset_full_shuffled.csv\")\n",
    "\n",
    "# Check if files actually exist\n",
    "df['exists'] = df['video_path'].apply(lambda x: os.path.exists(x))\n",
    "\n",
    "print(df['exists'].value_counts())\n",
    "print(df[df['exists'] == False].head())  # show any missing files\n",
    "\n",
    "\n"
   ]
  },
  {
   "cell_type": "code",
   "execution_count": null,
   "id": "371ca4d1",
   "metadata": {},
   "outputs": [
    {
     "data": {
      "text/html": [
       "\n",
       "    <video alt=\"test\" width=\"520\" height=\"440\" controls>\n",
       "        <source src=\"dataset_2/barking/barks_39.mp4\" type=\"video/mp4\">\n",
       "    </video>\n"
      ],
      "text/plain": [
       "<IPython.core.display.HTML object>"
      ]
     },
     "execution_count": 8,
     "metadata": {},
     "output_type": "execute_result"
    }
   ],
   "source": [
    "from IPython.display import HTML\n",
    "\n",
    "video_path = df['video_path'][0] \n",
    "\n",
    "HTML(f\"\"\"\n",
    "    <video alt=\"test\" width=\"520\" height=\"440\" controls>\n",
    "        <source src=\"{video_path}\" type=\"video/mp4\">\n",
    "    </video>\n",
    "\"\"\")\n"
   ]
  },
  {
   "cell_type": "code",
   "execution_count": 2,
   "id": "104cb52c",
   "metadata": {},
   "outputs": [
    {
     "name": "stdout",
     "output_type": "stream",
     "text": [
      "                          video_path    action  label\n",
      "0     dataset_2/barking/barks_39.mp4   barking      1\n",
      "1     dataset_2/barking/barks_17.mp4   barking      1\n",
      "2   dataset_2/panting/preview_50.mp4   panting      0\n",
      "3  dataset_2/sleeping/preview_47.mp4  sleeping      0\n",
      "4  dataset_2/sleeping/preview_26.mp4  sleeping      0\n"
     ]
    }
   ],
   "source": [
    "from sklearn.model_selection import train_test_split\n",
    "# Split the DataFrame into training and validation sets\n",
    "train_df, val_df = train_test_split(df, test_size=0.2, stratify=df['label'], random_state=42)\n",
    "print(df.head())\n"
   ]
  },
  {
   "cell_type": "code",
   "execution_count": 10,
   "id": "79a21d4c",
   "metadata": {},
   "outputs": [],
   "source": [
    "IMG_SIZE = 224\n",
    "BATCH_SIZE = 16\n",
    "EPOCHS = 10\n",
    "MAX_SEQ_LENGTH = 50 # Maximum number of frames to use per video\n",
    "NUM_FEATURES = 1280 # Number of features extracted by MobileNetV2"
   ]
  },
  {
   "cell_type": "code",
   "execution_count": 16,
   "id": "b8904f69",
   "metadata": {},
   "outputs": [],
   "source": [
    "import torch\n",
    "import os\n",
    "import frame_constructor as fc  # Assuming this is your feature extraction module\n",
    "\n",
    "def prepare_all_videos(df, root_dir):\n",
    "    num_samples = len(df)\n",
    "    video_paths = df[\"video_path\"].values.tolist()\n",
    "    labels = torch.tensor(df[\"label\"].values, dtype=torch.long)\n",
    " \n",
    "    # Preallocate tensors for whole dataset\n",
    "    frame_masks = torch.zeros((num_samples, MAX_SEQ_LENGTH), dtype=torch.bool)\n",
    "    frame_features = torch.zeros((num_samples, MAX_SEQ_LENGTH, NUM_FEATURES), dtype=torch.float32)\n",
    "\n",
    "    for idx, path in enumerate(video_paths): #loop for each video\n",
    "        # Use absolute path if present, else combine with root_dir\n",
    "        if os.path.isabs(path):\n",
    "            video_path = path\n",
    "        else:\n",
    "            video_path = os.path.join(root_dir, path)\n",
    "\n",
    "        frames = fc.frame_cons(video_path)  \n",
    "        # frames shape: (video_length, H, W, C), numpy array # eg:300, 224,224,3\n",
    "\n",
    "        video_length = frames.shape[0]\n",
    "        length = min(MAX_SEQ_LENGTH, video_length) #change to min length if video is shorter/larger than MAX_SEQ_LENGTH\n",
    "\n",
    "        # Process frames one by one (or batch if possible:not doing here) \n",
    "        #per video\n",
    "        temp_features = torch.zeros((MAX_SEQ_LENGTH, NUM_FEATURES), dtype=torch.float32) #20,2048\n",
    "\n",
    "        for i in range(length): #for each frame in the video\n",
    "            # Convert frame to tensor and permute channels if needed for model\n",
    "            #print(\"Feature shape:\", temp_features.shape)\n",
    "            frame = frames[i]  # shape (H, W, C), numpy\n",
    "            frame_tensor = torch.from_numpy(frame).permute(2, 0, 1).unsqueeze(0).float()  # (1, C, H, W)\n",
    "            \n",
    "            # Normalize as needed for MobileNetV2\n",
    "            frame_tensor = frame_tensor / 255.0\n",
    "            mean = torch.tensor([0.485, 0.456, 0.406], device=frame_tensor.device).view(1, 3, 1, 1)\n",
    "            std = torch.tensor([0.229, 0.224, 0.225], device=frame_tensor.device).view(1, 3, 1, 1)\n",
    "            frame_tensor = (frame_tensor - mean) / std\n",
    "\n",
    "            # Extract features with model in eval mode, no grad\n",
    "            with torch.no_grad():\n",
    "                #mobile_net_v2 expects input shape (1, 3, IMG_SIZE, IMG_SIZE) \n",
    "                #output shape of mobile_net_v2 is (batch_size, 1280) after flattning\n",
    "                feat = feature_extractor(frame_tensor)\n",
    "                #print(\"Feat shape:\", feat.shape)  # expect output: (1, NUM_FEATURES)\n",
    "            temp_features[i] = feat.squeeze(0)  # feat.squeeze(0) removes the batch dimension, making it (NUM_FEATURES,)\n",
    "\n",
    "        # Assign features and mask\n",
    "        frame_features[idx] = temp_features # Store features for this video\n",
    "        frame_masks[idx, :length] = True    # Mark valid frames as True in the mask\n",
    "\n",
    "    return (frame_features, frame_masks), labels\n"
   ]
  },
  {
   "cell_type": "code",
   "execution_count": 17,
   "id": "9f25f7dd",
   "metadata": {},
   "outputs": [
    {
     "data": {
      "text/plain": [
       "((tensor([[[2.2593e-02, 5.4808e-01, 1.0946e-01,  ..., 1.6816e-01,\n",
       "            1.4282e-01, 0.0000e+00],\n",
       "           [2.2218e-02, 5.7474e-01, 1.6505e-01,  ..., 1.2732e-01,\n",
       "            1.4164e-01, 0.0000e+00],\n",
       "           [2.4365e-02, 5.0617e-01, 1.3601e-01,  ..., 1.2516e-01,\n",
       "            1.2625e-01, 0.0000e+00],\n",
       "           ...,\n",
       "           [7.2541e-01, 9.2804e-01, 1.9170e-01,  ..., 2.2702e-01,\n",
       "            4.1084e-01, 7.8962e-03],\n",
       "           [8.1539e-01, 9.3658e-01, 1.5577e-01,  ..., 2.1304e-01,\n",
       "            6.1594e-01, 0.0000e+00],\n",
       "           [6.8362e-01, 9.3220e-01, 2.7625e-01,  ..., 2.7091e-01,\n",
       "            5.9455e-01, 0.0000e+00]],\n",
       "  \n",
       "          [[1.7328e-01, 1.0755e+00, 4.9774e-01,  ..., 9.0506e-03,\n",
       "            0.0000e+00, 1.3351e+00],\n",
       "           [1.4263e-01, 1.3234e+00, 5.3215e-01,  ..., 6.9599e-03,\n",
       "            0.0000e+00, 1.1690e+00],\n",
       "           [1.0735e-01, 1.4003e+00, 5.9207e-01,  ..., 5.2507e-03,\n",
       "            3.7992e-02, 1.1076e+00],\n",
       "           ...,\n",
       "           [2.7725e-02, 7.6252e-01, 3.1327e-01,  ..., 0.0000e+00,\n",
       "            0.0000e+00, 1.0495e+00],\n",
       "           [3.4183e-02, 7.4327e-01, 3.4770e-01,  ..., 5.2601e-03,\n",
       "            1.3609e-02, 9.9235e-01],\n",
       "           [6.0712e-02, 6.2775e-01, 3.5149e-01,  ..., 3.1078e-02,\n",
       "            0.0000e+00, 1.1364e+00]],\n",
       "  \n",
       "          [[1.5190e+00, 5.9535e-01, 3.5601e-01,  ..., 9.6141e-01,\n",
       "            4.5319e-01, 6.7121e-03],\n",
       "           [1.2291e+00, 5.4811e-01, 3.1026e-01,  ..., 8.4852e-01,\n",
       "            4.0741e-01, 6.6669e-03],\n",
       "           [1.3474e+00, 6.3877e-01, 2.7691e-01,  ..., 7.4810e-01,\n",
       "            4.5036e-01, 1.0313e-02],\n",
       "           ...,\n",
       "           [1.3633e+00, 8.1087e-01, 1.9181e-01,  ..., 8.2463e-01,\n",
       "            2.8200e-01, 1.3964e-01],\n",
       "           [1.2179e+00, 6.3420e-01, 1.5497e-01,  ..., 6.8195e-01,\n",
       "            3.1022e-01, 4.8065e-02],\n",
       "           [1.2652e+00, 5.5008e-01, 2.0029e-01,  ..., 7.4634e-01,\n",
       "            3.2803e-01, 7.7113e-02]],\n",
       "  \n",
       "          ...,\n",
       "  \n",
       "          [[6.9807e-01, 3.7122e-01, 7.3252e-01,  ..., 3.4931e-01,\n",
       "            1.2412e+00, 5.8213e-02],\n",
       "           [6.4678e-01, 5.3812e-01, 8.9896e-01,  ..., 1.2565e-01,\n",
       "            1.2282e+00, 5.1931e-03],\n",
       "           [6.4678e-01, 5.3812e-01, 8.9896e-01,  ..., 1.2565e-01,\n",
       "            1.2282e+00, 5.1931e-03],\n",
       "           ...,\n",
       "           [9.5636e-01, 2.8229e-01, 6.2964e-01,  ..., 7.8534e-01,\n",
       "            5.7572e-01, 2.0664e-01],\n",
       "           [8.8046e-01, 3.2429e-01, 8.1047e-01,  ..., 6.0792e-01,\n",
       "            6.5216e-01, 2.6907e-01],\n",
       "           [1.0696e+00, 3.0977e-01, 4.9151e-01,  ..., 7.4206e-01,\n",
       "            3.1179e-01, 2.3424e-01]],\n",
       "  \n",
       "          [[4.2937e-02, 3.1634e-01, 5.4295e-01,  ..., 2.4673e-01,\n",
       "            1.7140e-01, 5.9125e-01],\n",
       "           [3.7164e-02, 3.8539e-01, 4.7775e-01,  ..., 2.9240e-01,\n",
       "            1.6188e-01, 6.4327e-01],\n",
       "           [2.4478e-02, 4.0100e-01, 5.2978e-01,  ..., 2.4949e-01,\n",
       "            1.5262e-01, 6.1658e-01],\n",
       "           ...,\n",
       "           [9.3038e-03, 3.5111e-01, 6.3554e-01,  ..., 1.5456e-01,\n",
       "            1.4499e-01, 5.2357e-01],\n",
       "           [6.9346e-03, 3.5258e-01, 6.4470e-01,  ..., 1.4866e-01,\n",
       "            1.4375e-01, 4.9967e-01],\n",
       "           [5.0259e-03, 3.6005e-01, 6.7549e-01,  ..., 1.1835e-01,\n",
       "            1.3929e-01, 4.5989e-01]],\n",
       "  \n",
       "          [[1.7549e-01, 1.2876e-01, 3.9336e-01,  ..., 5.2171e-01,\n",
       "            3.7574e-03, 4.3284e-01],\n",
       "           [3.2168e-01, 9.4144e-02, 3.6513e-01,  ..., 6.0858e-01,\n",
       "            8.2749e-04, 3.3916e-01],\n",
       "           [2.5044e-01, 9.9348e-02, 6.6083e-01,  ..., 5.5140e-01,\n",
       "            0.0000e+00, 2.9018e-01],\n",
       "           ...,\n",
       "           [5.5664e-01, 7.5121e-03, 1.7224e-01,  ..., 1.6714e-01,\n",
       "            1.5058e-04, 9.1717e-02],\n",
       "           [7.8074e-01, 3.4831e-03, 1.4377e-01,  ..., 7.9156e-02,\n",
       "            3.6678e-02, 8.1983e-02],\n",
       "           [9.3815e-01, 8.2516e-03, 1.9827e-01,  ..., 7.8257e-02,\n",
       "            4.2188e-03, 8.5142e-02]]]),\n",
       "  tensor([[True, True, True,  ..., True, True, True],\n",
       "          [True, True, True,  ..., True, True, True],\n",
       "          [True, True, True,  ..., True, True, True],\n",
       "          ...,\n",
       "          [True, True, True,  ..., True, True, True],\n",
       "          [True, True, True,  ..., True, True, True],\n",
       "          [True, True, True,  ..., True, True, True]])),\n",
       " tensor([0, 0, 0, 0, 1, 0, 0, 0, 0, 1, 0, 0, 0, 0, 0, 0, 0, 0, 0, 0, 0, 0, 1, 0,\n",
       "         1, 0, 0, 0, 0, 0, 0, 0, 0, 0, 0, 0, 1, 0, 1, 0, 0, 0, 0, 1, 0, 0, 0, 0,\n",
       "         0, 0, 0, 0, 0, 0, 0, 0, 0, 0, 1, 0, 1, 1, 0, 1, 0, 0, 0, 0, 0, 0, 1, 0,\n",
       "         0, 0, 1, 0, 0, 0, 1, 0, 0, 1, 0, 0, 0, 0, 0, 0, 0, 0, 0, 0, 0, 0, 0, 0,\n",
       "         0, 0, 0, 1, 0, 0, 1, 0, 0, 0, 0, 0, 0, 1, 0, 1, 0, 0, 1, 0, 0, 0, 1, 1,\n",
       "         0, 1, 0, 1, 0, 0, 0, 0, 1, 1, 0, 0, 0, 0, 1, 0, 0, 0, 0, 0, 1, 1, 0, 0,\n",
       "         0, 0, 1, 0, 0, 0, 0, 0, 0, 0, 0, 0, 1, 0, 0, 0, 0, 0, 0, 0, 0, 0, 0, 0,\n",
       "         0, 0, 0, 1, 0, 1, 0, 0, 0, 0, 1, 0, 0, 0, 0, 0, 0, 0, 0, 1, 0, 0, 0, 0,\n",
       "         0, 0, 1, 0, 1, 1, 0, 0, 0, 0, 1, 1, 0, 0, 0, 0, 0, 0, 0, 0, 0, 0, 0, 1,\n",
       "         0, 1, 1, 0, 1, 0, 0, 0, 0, 0, 0, 0, 0, 0, 0, 1, 0, 0, 1]))"
      ]
     },
     "execution_count": 17,
     "metadata": {},
     "output_type": "execute_result"
    }
   ],
   "source": [
    "prepare_all_videos(train_df, ' ')"
   ]
  },
  {
   "cell_type": "code",
   "execution_count": 15,
   "id": "a5c1845f",
   "metadata": {},
   "outputs": [],
   "source": [
    "#the sequence model\n",
    "import torch\n",
    "import torch.nn as nn\n",
    "import torch.nn.functional as F\n",
    "\n",
    "class SequenceModel(nn.Module):\n",
    "    def __init__(self, num_features, max_seq_length, num_classes):\n",
    "        super().__init__()\n",
    "        self.gru1 = nn.GRU(input_size=num_features, hidden_size=16, num_layers=1,\n",
    "                           batch_first=True)\n",
    "        self.gru2 = nn.GRU(input_size=16, hidden_size=8, num_layers=1, batch_first=True)\n",
    "        self.dropout = nn.Dropout(0.4)\n",
    "        self.fc1 = nn.Linear(8, 8)\n",
    "        self.fc2 = nn.Linear(8, num_classes)\n",
    "\n",
    "    def forward(self, x, mask=None):\n",
    "        # x: (batch_size, seq_len, num_features)\n",
    "        lengths = mask.sum(dim=1) if mask is not None else torch.full((x.size(0),), x.size(1), dtype=torch.long).to(x.device)\n",
    "        # Pack the sequence for variable-length batch processing\n",
    "        packed = nn.utils.rnn.pack_padded_sequence(x, lengths.cpu(), batch_first=True, enforce_sorted=False)\n",
    "        packed_output, _ = self.gru1(packed)\n",
    "        output, _ = self.gru2(packed_output)\n",
    "        output, _ = nn.utils.rnn.pad_packed_sequence(output, batch_first=True, total_length=x.size(1))\n",
    "\n",
    "        # Take the last valid output in each sequence according to lengths\n",
    "        idx = (lengths - 1).unsqueeze(1).unsqueeze(2).expand(-1, 1, output.shape[2])\n",
    "        last_outputs = output.gather(1, idx).squeeze(1)\n",
    "        x = self.dropout(last_outputs)\n",
    "        x = F.relu(self.fc1(x))\n",
    "        x = self.fc2(x)\n",
    "        return x  # logits\n"
   ]
  },
  {
   "cell_type": "code",
   "execution_count": null,
   "id": "59907e71",
   "metadata": {},
   "outputs": [],
   "source": []
  }
 ],
 "metadata": {
  "kernelspec": {
   "display_name": ".venv",
   "language": "python",
   "name": "python3"
  },
  "language_info": {
   "codemirror_mode": {
    "name": "ipython",
    "version": 3
   },
   "file_extension": ".py",
   "mimetype": "text/x-python",
   "name": "python",
   "nbconvert_exporter": "python",
   "pygments_lexer": "ipython3",
   "version": "3.10.5"
  }
 },
 "nbformat": 4,
 "nbformat_minor": 5
}
